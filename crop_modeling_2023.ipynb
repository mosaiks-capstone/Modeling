{
 "cells": [
  {
   "cell_type": "markdown",
   "id": "0fe56655",
   "metadata": {},
   "source": [
    "# Modeling Crop Yield\n",
    "## Python modules"
   ]
  },
  {
   "cell_type": "code",
   "execution_count": 1,
   "id": "5b4f19f5",
   "metadata": {},
   "outputs": [],
   "source": [
    "import warnings\n",
    "import time\n",
    "import os\n",
    "\n",
    "import dask\n",
    "from dask.distributed import Client\n",
    "\n",
    "import numpy as np\n",
    "import pandas as pd\n",
    "import matplotlib.pyplot as plt\n",
    "import matplotlib.pyplot as plt\n",
    "import matplotlib.colors as colors\n",
    "\n",
    "import geopandas\n",
    "\n",
    "import pyarrow\n",
    "from sklearn.linear_model import RidgeCV\n",
    "from sklearn.model_selection import train_test_split\n",
    "from sklearn.metrics import r2_score\n",
    "from sklearn.metrics import mean_squared_error\n",
    "from sklearn.impute import SimpleImputer\n",
    "from scipy.stats import spearmanr\n",
    "from scipy.linalg import LinAlgWarning\n",
    "from scipy.stats import pearsonr\n",
    "\n",
    "import math\n",
    "import seaborn as sns"
   ]
  },
  {
   "cell_type": "markdown",
   "id": "bd2f0e8f",
   "metadata": {},
   "source": [
    "## Parameters\n",
    "#### Choose a satellite.\n",
    "\n",
    "For a description of the Landsat 8 mission, see the US Geological metadata [here.]()\n",
    "\n",
    "For a description of the Sentinel 2 mission, see the US Geological metadata [here.]()"
   ]
  },
  {
   "cell_type": "code",
   "execution_count": 2,
   "id": "cb13001c",
   "metadata": {},
   "outputs": [],
   "source": [
    "#satellite = \"landsat-8-c2-l2\"\n",
    "satellite = \"sentinel-2-l2a\""
   ]
  },
  {
   "cell_type": "markdown",
   "id": "ed1ab70e",
   "metadata": {},
   "source": [
    "#### Choose band combination.\n",
    "\n",
    "For a description of **Landsat** bands, see the [US Geological Survey documentation here.](https://www.usgs.gov/faqs/what-are-band-designations-landsat-satellites)\n",
    "\n",
    "For a description of **Sentinel bands**, see the [US Geological Survey documentation here.](https://www.usgs.gov/centers/eros/science/usgs-eros-archive-sentinel-2#:~:text=4%20bands%20at%2010%20meter,%2Dinfrared%20(842%20nm)\n",
    "\n",
    "According to our results, bands **(insert band selection here)** result in the best model performance for Landsat, and **(insert band selection here)** result in the best model performance for Sentinel for the task of predicting agricultural outcomes in Zambia."
   ]
  },
  {
   "cell_type": "code",
   "execution_count": 3,
   "id": "6155e23e",
   "metadata": {},
   "outputs": [],
   "source": [
    "# bands = \"2-3-4\"\n",
    "# bands = \"2-3-4-8\"\n",
    "# bands = \"1-2-3-4-5-6-7\"\n",
    "# bands = \"2-3-4-5-6-7-8-11-12\"\n",
    "bands = \"3-4-5\""
   ]
  },
  {
   "cell_type": "markdown",
   "id": "a52ecb9d",
   "metadata": {},
   "source": [
    "#### Choose the number of points that were featurized.\n",
    "\n",
    "Each value in the following chunk represents the amount of thousands of points that were featurized in each respective feature file. These points represent a uniform subset of the spatial grid of Zambia. Points are spaced at uniform intervals for each selection, measured in kilometers in the longitudinal direction for each set of features. The kilometer distance interval differs for each selection below; 42,000 points results in the smallest uniform distance between points, and 4,000 points results in the greatest uniform distance between points. Selecting a greater quantity of points results in a denser spatial sample, which increases computational cost and time, but increases the spatial resolution of the model. Regardless of the quantity of points selected, each point is buffered by the same distance, resulting in a 1km^2 cell around each point.\n",
    "\n",
    "These specific options point quantities is a result of uniformly increasing the distance between points in units of kilometers prior to matching satellite images to each point. These options represent the number of points that fall within the borders of Zambia, and the numbers have been rounded to the nearest thousandth for consistency in naming files. See the [CropMOSAIKS Featurization repository](https://github.com/cropmosaiks/Featurization) for more information regarding how these distances we calculated. "
   ]
  },
  {
   "cell_type": "code",
   "execution_count": 4,
   "id": "6a903025",
   "metadata": {},
   "outputs": [],
   "source": [
    "#points = 15\n",
    "#points = 20\n",
    "points = 22"
   ]
  },
  {
   "cell_type": "markdown",
   "id": "aca0aad3",
   "metadata": {
    "tags": []
   },
   "source": [
    "#### Choose which months to use in the model.\n",
    "\n",
    "Note that months 10, 11, and 12 get pushed to the next year because the growing season (November - May) spans the calendar year. Maize is planted in November, starts to change color with maturity in May, and is harvested in June - August. According to our results, subsetting the months to **(insert month selection here)** increases model performance."
   ]
  },
  {
   "cell_type": "code",
   "execution_count": 5,
   "id": "4e1a5587",
   "metadata": {},
   "outputs": [],
   "source": [
    "# month_range = [1, 2, 3, 4, 5, 6, 7, 8, 9, 10, 11, 12]\n",
    "# month_range = [      3, 4, 5, 6, 7, 8, 9            ]\n",
    "month_range = [         4, 5, 6, 7, 8, 9            ]\n",
    "# month_range = [            5, 6, 7, 8, 9            ]\n",
    "# month_range = [         4, 5, 6, 7, 8               ]\n",
    "# month_range = [            5, 6, 7, 8               ]"
   ]
  },
  {
   "cell_type": "markdown",
   "id": "8c15b7c5",
   "metadata": {},
   "source": [
    "#### Impute NA values by descending group levels (True) or `scikit learn`'s simple imputer (False)\n",
    "\n",
    "Imputing \"manually\" by descending group levels imputes NA values in multiple \"cascading\" steps, decreasing the proportion of inoutated values with each step. First, the NA values are imputed at by both `year` and `district`, which should yield imputed values that most closely match the feature values that would be present in the data if there was no clouds obscuring the satellite images. Next, the remaining NA values that could not be imputed by both `year` and `SEA` are imputed by only `SEA`. Lastly, the remaining NA vlaues that could not be imputed by both `year` and `SEA` or by just `SEA` are imputed by `year` only. This option gives the user more control and transparency over how the imputation is executed.\n",
    "\n",
    "Imputing using `scikit learn`'s simple imputer executes standard imputation, the details of which can be found in the `scikitlearn` documentation [here.](https://scikit-learn.org/stable/modules/generated/sklearn.impute.SimpleImputer.html)"
   ]
  },
  {
   "cell_type": "code",
   "execution_count": 6,
   "id": "c9662e99",
   "metadata": {},
   "outputs": [],
   "source": [
    "impute_manual = True\n",
    "# impute_manual = False"
   ]
  },
  {
   "cell_type": "markdown",
   "id": "404b7ee8-3289-467c-9dcd-84d50deb9a92",
   "metadata": {},
   "source": [
    "### Select month start\n",
    "\n",
    "If using Landsat 8 satellite imagery and want to include 2013 imagery and you have data that overlaps with the 2013 month range, select `True`. This is necessary because the Landsat 8 mission data starts in month 4. Ensure month range selected is 4 - 9."
   ]
  },
  {
   "cell_type": "code",
   "execution_count": 7,
   "id": "4a114312-ae97-4575-81a9-a715217a7f8d",
   "metadata": {},
   "outputs": [],
   "source": [
    "include_2013 = True\n",
    "# include_2013 = False"
   ]
  },
  {
   "cell_type": "markdown",
   "id": "a06291c4",
   "metadata": {
    "tags": []
   },
   "source": [
    "### Unchanging parameters\n",
    "\n",
    "The parameters in the following chunk are set for the country of Zambia for with 1000 features, regardless of the satellite selected. The start years for each satellite reflect the respective years that Landsat 8 and Sentinel 2A missions began.\n",
    "\n",
    "The number of features is set to 1000 to serve as a staple parameter among the several other parameters varied during the model optimization process. Changing this parameter in the following code chunk will result in an error because featurizing landsat imagery for a different number of features was outside the scope of this project."
   ]
  },
  {
   "cell_type": "code",
   "execution_count": 39,
   "id": "026f29eb",
   "metadata": {
    "tags": []
   },
   "outputs": [],
   "source": [
    "country_code = \"ZMB\"\n",
    "num_features = 1000\n",
    "\n",
    "if satellite == \"landsat-8-c2-l2\":\n",
    "    year_start = 2013 # Landsat\n",
    "else:\n",
    "    year_start = 2015 # Sentinel\n",
    "year_end = 2021\n",
    "\n",
    "year_end_crops = 2019\n",
    "\n",
    "data_dir_sea = \"/capstone/mosaiks/repos/modeling/data/sea_all_good\" \n",
    "data_dir_zmb = \"/capstone/mosaiks/repos/modeling/data/zambia_all_good\" \n",
    "# data_dir = \"data\"  \n",
    "feature_file_name = (f'{satellite}_bands-{bands}_{country_code}_{points}k-points_{num_features}-features')\n",
    "\n",
    "# file paths\n",
    "#/capstone/mosaiks/repos/modeling/data/sentinel-2-l2a_bands-3-4-5_ZMB_22k-points_1000-features_2015.feather\n",
    "#/capstone/mosaiks/box/data/test_spatial_join.csv\n",
    "\n",
    "\n",
    "if points == \"4\":\n",
    "    marker_sz = 60\n",
    "elif points == \"15\":\n",
    "    marker_sz = 15\n",
    "elif points == \"24\":\n",
    "    marker_sz = 10\n",
    "else:\n",
    "    marker_sz = 8"
   ]
  },
  {
   "cell_type": "markdown",
   "id": "aef6bb69",
   "metadata": {},
   "source": [
    "## Administrative boundaries \n",
    "\n",
    "Administrative boundaries reflect the **(insert number of SEAs in dataset)** survey enumeration area (SEA) boundaries within the country of Zambia, as determined by the Zambian Ministry of Agriculture. **(Are we able to describe here how SEAs are determined?/Give some sort of framework for user understanding of the geographical regions? Maybe put in a screen capture of the SEA map?)** We subset the spatial grid to SEA level becuase the agricultural data is at the SEA level of specificity. The features are originally produced at higher spatial resolution, then summarized to the SEA level in order to train the model with ground-truth crop data. "
   ]
  },
  {
   "cell_type": "code",
   "execution_count": 9,
   "id": "a28fd026",
   "metadata": {
    "tags": []
   },
   "outputs": [],
   "source": [
    "#country_shp = geopandas.read_file(f'{data_dir}/boundaries/gadm36_{country_code}_2.shp')\n",
    "#country_shp = country_shp.rename(columns = {'NAME_2': 'district'})[['district', 'geometry']]\n",
    "#country_shp.district = country_shp.district.replace(\"MPongwe\", 'Mpongwe', regex=True)\n",
    "#country_districts = country_shp.district.sort_values().unique().tolist()\n",
    "#country_shp = country_shp.set_index('district')\n",
    "#country_shp.shape\n",
    "#country_shp.plot(figsize = (12,10), linewidth = 1, edgecolor = 'black' )\n",
    "# country_shp.plot()"
   ]
  },
  {
   "cell_type": "markdown",
   "id": "1caa5a1f",
   "metadata": {
    "tags": []
   },
   "source": [
    "## Features\n",
    "\n",
    "Append annual features files together into one file: `features_raw`."
   ]
  },
  {
   "cell_type": "code",
   "execution_count": 40,
   "id": "55409ca0",
   "metadata": {
    "tags": []
   },
   "outputs": [
    {
     "name": "stdout",
     "output_type": "stream",
     "text": [
      "Opening: sentinel-2-l2a_bands-3-4-5_ZMB_22k-points_1000-features_2015_7.feather\n",
      "Opening: sentinel-2-l2a_bands-3-4-5_ZMB_22k-points_1000-features_2015_8.feather\n",
      "Opening: sentinel-2-l2a_bands-3-4-5_ZMB_22k-points_1000-features_2015_9.feather\n",
      "Opening: sentinel-2-l2a_bands-3-4-5_ZMB_22k-points_1000-features_2015_10.feather\n",
      "Opening: sentinel-2-l2a_bands-3-4-5_ZMB_22k-points_1000-features_2015_11.feather\n",
      "Opening: sentinel-2-l2a_bands-3-4-5_ZMB_22k-points_1000-features_2015_12.feather\n",
      "feature.shape (33956, 1004)\n",
      "Appending: 2015\n",
      "\n",
      "Opening: sentinel-2-l2a_bands-3-4-5_ZMB_22k-points_1000-features_2016_1.feather\n",
      "Opening: sentinel-2-l2a_bands-3-4-5_ZMB_22k-points_1000-features_2016_2.feather\n",
      "Opening: sentinel-2-l2a_bands-3-4-5_ZMB_22k-points_1000-features_2016_3.feather\n",
      "Opening: sentinel-2-l2a_bands-3-4-5_ZMB_22k-points_1000-features_2016_4.feather\n",
      "Opening: sentinel-2-l2a_bands-3-4-5_ZMB_22k-points_1000-features_2016_5.feather\n",
      "Opening: sentinel-2-l2a_bands-3-4-5_ZMB_22k-points_1000-features_2016_6.feather\n",
      "Opening: sentinel-2-l2a_bands-3-4-5_ZMB_22k-points_1000-features_2016_7.feather\n",
      "Opening: sentinel-2-l2a_bands-3-4-5_ZMB_22k-points_1000-features_2016_8.feather\n",
      "Opening: sentinel-2-l2a_bands-3-4-5_ZMB_22k-points_1000-features_2016_9.feather\n",
      "Opening: sentinel-2-l2a_bands-3-4-5_ZMB_22k-points_1000-features_2016_10.feather\n",
      "Opening: sentinel-2-l2a_bands-3-4-5_ZMB_22k-points_1000-features_2016_11.feather\n",
      "Opening: sentinel-2-l2a_bands-3-4-5_ZMB_22k-points_1000-features_2016_12.feather\n",
      "feature.shape (226499, 1004)\n",
      "Appending: 2016\n",
      "\n",
      "Opening: sentinel-2-l2a_bands-3-4-5_ZMB_22k-points_1000-features_2017_1.feather\n",
      "Opening: sentinel-2-l2a_bands-3-4-5_ZMB_22k-points_1000-features_2017_2.feather\n",
      "Opening: sentinel-2-l2a_bands-3-4-5_ZMB_22k-points_1000-features_2017_3.feather\n",
      "Opening: sentinel-2-l2a_bands-3-4-5_ZMB_22k-points_1000-features_2017_4.feather\n",
      "Opening: sentinel-2-l2a_bands-3-4-5_ZMB_22k-points_1000-features_2017_5.feather\n",
      "Opening: sentinel-2-l2a_bands-3-4-5_ZMB_22k-points_1000-features_2017_6.feather\n",
      "Opening: sentinel-2-l2a_bands-3-4-5_ZMB_22k-points_1000-features_2017_7.feather\n",
      "Opening: sentinel-2-l2a_bands-3-4-5_ZMB_22k-points_1000-features_2017_8.feather\n",
      "Opening: sentinel-2-l2a_bands-3-4-5_ZMB_22k-points_1000-features_2017_9.feather\n",
      "Opening: sentinel-2-l2a_bands-3-4-5_ZMB_22k-points_1000-features_2017_10.feather\n",
      "Opening: sentinel-2-l2a_bands-3-4-5_ZMB_22k-points_1000-features_2017_11.feather\n",
      "Opening: sentinel-2-l2a_bands-3-4-5_ZMB_22k-points_1000-features_2017_12.feather\n",
      "feature.shape (387838, 1004)\n",
      "Appending: 2017\n",
      "\n",
      "Opening: sentinel-2-l2a_bands-3-4-5_ZMB_22k-points_1000-features_2018_1.feather\n",
      "Opening: sentinel-2-l2a_bands-3-4-5_ZMB_22k-points_1000-features_2018_2.feather\n",
      "Opening: sentinel-2-l2a_bands-3-4-5_ZMB_22k-points_1000-features_2018_3.feather\n",
      "Opening: sentinel-2-l2a_bands-3-4-5_ZMB_22k-points_1000-features_2018_4.feather\n",
      "Opening: sentinel-2-l2a_bands-3-4-5_ZMB_22k-points_1000-features_2018_5.feather\n",
      "Opening: sentinel-2-l2a_bands-3-4-5_ZMB_22k-points_1000-features_2018_6.feather\n",
      "Opening: sentinel-2-l2a_bands-3-4-5_ZMB_22k-points_1000-features_2018_7.feather\n",
      "Opening: sentinel-2-l2a_bands-3-4-5_ZMB_22k-points_1000-features_2018_8.feather\n",
      "Opening: sentinel-2-l2a_bands-3-4-5_ZMB_22k-points_1000-features_2018_9.feather\n",
      "Opening: sentinel-2-l2a_bands-3-4-5_ZMB_22k-points_1000-features_2018_10.feather\n",
      "Opening: sentinel-2-l2a_bands-3-4-5_ZMB_22k-points_1000-features_2018_11.feather\n",
      "Opening: sentinel-2-l2a_bands-3-4-5_ZMB_22k-points_1000-features_2018_12.feather\n",
      "feature.shape (601100, 1004)\n",
      "Appending: 2018\n",
      "\n",
      "Opening: sentinel-2-l2a_bands-3-4-5_ZMB_22k-points_1000-features_2019_1.feather\n",
      "Opening: sentinel-2-l2a_bands-3-4-5_ZMB_22k-points_1000-features_2019_2.feather\n",
      "Opening: sentinel-2-l2a_bands-3-4-5_ZMB_22k-points_1000-features_2019_3.feather\n",
      "Opening: sentinel-2-l2a_bands-3-4-5_ZMB_22k-points_1000-features_2019_4.feather\n",
      "Opening: sentinel-2-l2a_bands-3-4-5_ZMB_22k-points_1000-features_2019_5.feather\n",
      "Opening: sentinel-2-l2a_bands-3-4-5_ZMB_22k-points_1000-features_2019_6.feather\n",
      "Opening: sentinel-2-l2a_bands-3-4-5_ZMB_22k-points_1000-features_2019_7.feather\n",
      "Opening: sentinel-2-l2a_bands-3-4-5_ZMB_22k-points_1000-features_2019_8.feather\n",
      "Opening: sentinel-2-l2a_bands-3-4-5_ZMB_22k-points_1000-features_2019_9.feather\n",
      "Opening: sentinel-2-l2a_bands-3-4-5_ZMB_22k-points_1000-features_2019_10.feather\n",
      "Opening: sentinel-2-l2a_bands-3-4-5_ZMB_22k-points_1000-features_2019_11.feather\n",
      "Opening: sentinel-2-l2a_bands-3-4-5_ZMB_22k-points_1000-features_2019_12.feather\n",
      "feature.shape (826769, 1004)\n",
      "Appending: 2019\n",
      "\n",
      "Opening: sentinel-2-l2a_bands-3-4-5_ZMB_22k-points_1000-features_2020_1.feather\n",
      "Opening: sentinel-2-l2a_bands-3-4-5_ZMB_22k-points_1000-features_2020_2.feather\n",
      "Opening: sentinel-2-l2a_bands-3-4-5_ZMB_22k-points_1000-features_2020_3.feather\n",
      "Opening: sentinel-2-l2a_bands-3-4-5_ZMB_22k-points_1000-features_2020_4.feather\n",
      "Opening: sentinel-2-l2a_bands-3-4-5_ZMB_22k-points_1000-features_2020_5.feather\n",
      "Opening: sentinel-2-l2a_bands-3-4-5_ZMB_22k-points_1000-features_2020_6.feather\n",
      "Opening: sentinel-2-l2a_bands-3-4-5_ZMB_22k-points_1000-features_2020_7.feather\n",
      "Opening: sentinel-2-l2a_bands-3-4-5_ZMB_22k-points_1000-features_2020_8.feather\n",
      "Opening: sentinel-2-l2a_bands-3-4-5_ZMB_22k-points_1000-features_2020_9.feather\n",
      "Opening: sentinel-2-l2a_bands-3-4-5_ZMB_22k-points_1000-features_2020_10.feather\n"
     ]
    },
    {
     "ename": "FileNotFoundError",
     "evalue": "[Errno 2] No such file or directory: '/capstone/mosaiks/repos/modeling/data/sea_all_good/sentinel-2-l2a_bands-3-4-5_ZMB_22k-points_1000-features_2020_10_sea.feather'",
     "output_type": "error",
     "traceback": [
      "\u001b[0;31m---------------------------------------------------------------------------\u001b[0m",
      "\u001b[0;31mFileNotFoundError\u001b[0m                         Traceback (most recent call last)",
      "Cell \u001b[0;32mIn[40], line 10\u001b[0m\n\u001b[1;32m      8\u001b[0m \u001b[38;5;28;01mfor\u001b[39;00m mn \u001b[38;5;129;01min\u001b[39;00m month_range:\n\u001b[1;32m      9\u001b[0m     \u001b[38;5;28mprint\u001b[39m(\u001b[38;5;124mf\u001b[39m\u001b[38;5;124m\"\u001b[39m\u001b[38;5;124mOpening: \u001b[39m\u001b[38;5;132;01m{\u001b[39;00mfeature_file_name\u001b[38;5;132;01m}\u001b[39;00m\u001b[38;5;124m_\u001b[39m\u001b[38;5;132;01m{\u001b[39;00myr\u001b[38;5;132;01m}\u001b[39;00m\u001b[38;5;124m_\u001b[39m\u001b[38;5;132;01m{\u001b[39;00mmn\u001b[38;5;132;01m}\u001b[39;00m\u001b[38;5;124m.feather\u001b[39m\u001b[38;5;124m\"\u001b[39m)\n\u001b[0;32m---> 10\u001b[0m     features_x \u001b[38;5;241m=\u001b[39m \u001b[43mpd\u001b[49m\u001b[38;5;241;43m.\u001b[39;49m\u001b[43mread_feather\u001b[49m\u001b[43m(\u001b[49m\u001b[38;5;124;43mf\u001b[39;49m\u001b[38;5;124;43m\"\u001b[39;49m\u001b[38;5;132;43;01m{\u001b[39;49;00m\u001b[43mdata_dir_sea\u001b[49m\u001b[38;5;132;43;01m}\u001b[39;49;00m\u001b[38;5;124;43m/\u001b[39;49m\u001b[38;5;132;43;01m{\u001b[39;49;00m\u001b[43mfeature_file_name\u001b[49m\u001b[38;5;132;43;01m}\u001b[39;49;00m\u001b[38;5;124;43m_\u001b[39;49m\u001b[38;5;132;43;01m{\u001b[39;49;00m\u001b[43myr\u001b[49m\u001b[38;5;132;43;01m}\u001b[39;49;00m\u001b[38;5;124;43m_\u001b[39;49m\u001b[38;5;132;43;01m{\u001b[39;49;00m\u001b[43mmn\u001b[49m\u001b[38;5;132;43;01m}\u001b[39;49;00m\u001b[38;5;124;43m_sea.feather\u001b[39;49m\u001b[38;5;124;43m\"\u001b[39;49m\u001b[43m)\u001b[49m\n\u001b[1;32m     12\u001b[0m     \u001b[38;5;66;03m# concatenate the feather files together, axis = 0 specifies to stack rows (rather than adding columns)\u001b[39;00m\n\u001b[1;32m     13\u001b[0m     features \u001b[38;5;241m=\u001b[39m pd\u001b[38;5;241m.\u001b[39mconcat([features, features_x], axis\u001b[38;5;241m=\u001b[39m\u001b[38;5;241m0\u001b[39m)\n",
      "File \u001b[0;32m~/.conda/envs/mosaiks/lib/python3.11/site-packages/pandas/io/feather_format.py:128\u001b[0m, in \u001b[0;36mread_feather\u001b[0;34m(path, columns, use_threads, storage_options)\u001b[0m\n\u001b[1;32m    125\u001b[0m import_optional_dependency(\u001b[38;5;124m\"\u001b[39m\u001b[38;5;124mpyarrow\u001b[39m\u001b[38;5;124m\"\u001b[39m)\n\u001b[1;32m    126\u001b[0m \u001b[38;5;28;01mfrom\u001b[39;00m \u001b[38;5;21;01mpyarrow\u001b[39;00m \u001b[38;5;28;01mimport\u001b[39;00m feather\n\u001b[0;32m--> 128\u001b[0m \u001b[38;5;28;01mwith\u001b[39;00m \u001b[43mget_handle\u001b[49m\u001b[43m(\u001b[49m\n\u001b[1;32m    129\u001b[0m \u001b[43m    \u001b[49m\u001b[43mpath\u001b[49m\u001b[43m,\u001b[49m\u001b[43m \u001b[49m\u001b[38;5;124;43m\"\u001b[39;49m\u001b[38;5;124;43mrb\u001b[39;49m\u001b[38;5;124;43m\"\u001b[39;49m\u001b[43m,\u001b[49m\u001b[43m \u001b[49m\u001b[43mstorage_options\u001b[49m\u001b[38;5;241;43m=\u001b[39;49m\u001b[43mstorage_options\u001b[49m\u001b[43m,\u001b[49m\u001b[43m \u001b[49m\u001b[43mis_text\u001b[49m\u001b[38;5;241;43m=\u001b[39;49m\u001b[38;5;28;43;01mFalse\u001b[39;49;00m\n\u001b[1;32m    130\u001b[0m \u001b[43m\u001b[49m\u001b[43m)\u001b[49m \u001b[38;5;28;01mas\u001b[39;00m handles:\n\u001b[1;32m    132\u001b[0m     \u001b[38;5;28;01mreturn\u001b[39;00m feather\u001b[38;5;241m.\u001b[39mread_feather(\n\u001b[1;32m    133\u001b[0m         handles\u001b[38;5;241m.\u001b[39mhandle, columns\u001b[38;5;241m=\u001b[39mcolumns, use_threads\u001b[38;5;241m=\u001b[39m\u001b[38;5;28mbool\u001b[39m(use_threads)\n\u001b[1;32m    134\u001b[0m     )\n",
      "File \u001b[0;32m~/.conda/envs/mosaiks/lib/python3.11/site-packages/pandas/io/common.py:865\u001b[0m, in \u001b[0;36mget_handle\u001b[0;34m(path_or_buf, mode, encoding, compression, memory_map, is_text, errors, storage_options)\u001b[0m\n\u001b[1;32m    856\u001b[0m         handle \u001b[38;5;241m=\u001b[39m \u001b[38;5;28mopen\u001b[39m(\n\u001b[1;32m    857\u001b[0m             handle,\n\u001b[1;32m    858\u001b[0m             ioargs\u001b[38;5;241m.\u001b[39mmode,\n\u001b[0;32m   (...)\u001b[0m\n\u001b[1;32m    861\u001b[0m             newline\u001b[38;5;241m=\u001b[39m\u001b[38;5;124m\"\u001b[39m\u001b[38;5;124m\"\u001b[39m,\n\u001b[1;32m    862\u001b[0m         )\n\u001b[1;32m    863\u001b[0m     \u001b[38;5;28;01melse\u001b[39;00m:\n\u001b[1;32m    864\u001b[0m         \u001b[38;5;66;03m# Binary mode\u001b[39;00m\n\u001b[0;32m--> 865\u001b[0m         handle \u001b[38;5;241m=\u001b[39m \u001b[38;5;28mopen\u001b[39m(handle, ioargs\u001b[38;5;241m.\u001b[39mmode)\n\u001b[1;32m    866\u001b[0m     handles\u001b[38;5;241m.\u001b[39mappend(handle)\n\u001b[1;32m    868\u001b[0m \u001b[38;5;66;03m# Convert BytesIO or file objects passed with an encoding\u001b[39;00m\n",
      "\u001b[0;31mFileNotFoundError\u001b[0m: [Errno 2] No such file or directory: '/capstone/mosaiks/repos/modeling/data/sea_all_good/sentinel-2-l2a_bands-3-4-5_ZMB_22k-points_1000-features_2020_10_sea.feather'"
     ]
    }
   ],
   "source": [
    "features = geopandas.GeoDataFrame()\n",
    "\n",
    "for yr in range(year_start, year_end + 1):\n",
    "    if (yr == 2015) :\n",
    "        month_range = range(7, 13)\n",
    "    else:\n",
    "        month_range = range(1, 13)\n",
    "    for mn in month_range:\n",
    "        print(f\"Opening: {feature_file_name}_{yr}_{mn}.feather\")\n",
    "        features_x = pd.read_feather(f\"{data_dir_sea}/{feature_file_name}_{yr}_{mn}_sea.feather\")\n",
    "\n",
    "        # concatenate the feather files together, axis = 0 specifies to stack rows (rather than adding columns)\n",
    "        features = pd.concat([features, features_x], axis=0)\n",
    "    \n",
    "    print(\"feature.shape\", features.shape)\n",
    "    print(\"Appending:\", yr)\n",
    "    print(\"\")"
   ]
  },
  {
   "cell_type": "code",
   "execution_count": 11,
   "id": "617e99a7-5225-4812-a5d3-7a69179fbd68",
   "metadata": {},
   "outputs": [
    {
     "data": {
      "text/html": [
       "<div>\n",
       "<style scoped>\n",
       "    .dataframe tbody tr th:only-of-type {\n",
       "        vertical-align: middle;\n",
       "    }\n",
       "\n",
       "    .dataframe tbody tr th {\n",
       "        vertical-align: top;\n",
       "    }\n",
       "\n",
       "    .dataframe thead th {\n",
       "        text-align: right;\n",
       "    }\n",
       "</style>\n",
       "<table border=\"1\" class=\"dataframe\">\n",
       "  <thead>\n",
       "    <tr style=\"text-align: right;\">\n",
       "      <th></th>\n",
       "      <th>0</th>\n",
       "      <th>1</th>\n",
       "      <th>2</th>\n",
       "      <th>3</th>\n",
       "      <th>4</th>\n",
       "      <th>5</th>\n",
       "      <th>6</th>\n",
       "      <th>7</th>\n",
       "      <th>8</th>\n",
       "      <th>9</th>\n",
       "      <th>...</th>\n",
       "      <th>994</th>\n",
       "      <th>995</th>\n",
       "      <th>996</th>\n",
       "      <th>997</th>\n",
       "      <th>998</th>\n",
       "      <th>999</th>\n",
       "      <th>lon</th>\n",
       "      <th>lat</th>\n",
       "      <th>year</th>\n",
       "      <th>month</th>\n",
       "    </tr>\n",
       "  </thead>\n",
       "  <tbody>\n",
       "    <tr>\n",
       "      <th>0</th>\n",
       "      <td>0.000000</td>\n",
       "      <td>0.000000</td>\n",
       "      <td>0.0</td>\n",
       "      <td>0.000000</td>\n",
       "      <td>0.006633</td>\n",
       "      <td>0.001212</td>\n",
       "      <td>0.003540</td>\n",
       "      <td>0.668157</td>\n",
       "      <td>0.000000</td>\n",
       "      <td>0.149369</td>\n",
       "      <td>...</td>\n",
       "      <td>0.017366</td>\n",
       "      <td>0.790204</td>\n",
       "      <td>0.000150</td>\n",
       "      <td>1.760779</td>\n",
       "      <td>0.803127</td>\n",
       "      <td>1.431991</td>\n",
       "      <td>27.660588</td>\n",
       "      <td>-16.343257</td>\n",
       "      <td>2015</td>\n",
       "      <td>7</td>\n",
       "    </tr>\n",
       "    <tr>\n",
       "      <th>1</th>\n",
       "      <td>0.000000</td>\n",
       "      <td>0.000000</td>\n",
       "      <td>0.0</td>\n",
       "      <td>0.000000</td>\n",
       "      <td>0.008555</td>\n",
       "      <td>0.000070</td>\n",
       "      <td>0.000237</td>\n",
       "      <td>0.656944</td>\n",
       "      <td>0.000000</td>\n",
       "      <td>0.111461</td>\n",
       "      <td>...</td>\n",
       "      <td>0.028406</td>\n",
       "      <td>0.791688</td>\n",
       "      <td>0.000019</td>\n",
       "      <td>1.763327</td>\n",
       "      <td>0.822992</td>\n",
       "      <td>1.465062</td>\n",
       "      <td>27.660588</td>\n",
       "      <td>-16.353257</td>\n",
       "      <td>2015</td>\n",
       "      <td>7</td>\n",
       "    </tr>\n",
       "    <tr>\n",
       "      <th>2</th>\n",
       "      <td>0.000000</td>\n",
       "      <td>0.000000</td>\n",
       "      <td>0.0</td>\n",
       "      <td>0.000000</td>\n",
       "      <td>0.002536</td>\n",
       "      <td>0.001814</td>\n",
       "      <td>0.003352</td>\n",
       "      <td>0.563263</td>\n",
       "      <td>0.000000</td>\n",
       "      <td>0.103829</td>\n",
       "      <td>...</td>\n",
       "      <td>0.035766</td>\n",
       "      <td>0.798527</td>\n",
       "      <td>0.000056</td>\n",
       "      <td>1.703802</td>\n",
       "      <td>0.812447</td>\n",
       "      <td>1.389176</td>\n",
       "      <td>27.650588</td>\n",
       "      <td>-16.353257</td>\n",
       "      <td>2015</td>\n",
       "      <td>7</td>\n",
       "    </tr>\n",
       "    <tr>\n",
       "      <th>3</th>\n",
       "      <td>0.000000</td>\n",
       "      <td>0.000000</td>\n",
       "      <td>0.0</td>\n",
       "      <td>0.000000</td>\n",
       "      <td>0.005713</td>\n",
       "      <td>0.000012</td>\n",
       "      <td>0.002416</td>\n",
       "      <td>0.363920</td>\n",
       "      <td>0.000000</td>\n",
       "      <td>0.071478</td>\n",
       "      <td>...</td>\n",
       "      <td>0.030403</td>\n",
       "      <td>0.833635</td>\n",
       "      <td>0.000238</td>\n",
       "      <td>1.568171</td>\n",
       "      <td>0.774129</td>\n",
       "      <td>1.292278</td>\n",
       "      <td>27.630588</td>\n",
       "      <td>-16.353257</td>\n",
       "      <td>2015</td>\n",
       "      <td>7</td>\n",
       "    </tr>\n",
       "    <tr>\n",
       "      <th>4</th>\n",
       "      <td>0.000000</td>\n",
       "      <td>0.000000</td>\n",
       "      <td>0.0</td>\n",
       "      <td>0.000000</td>\n",
       "      <td>0.006963</td>\n",
       "      <td>0.000459</td>\n",
       "      <td>0.002465</td>\n",
       "      <td>0.518091</td>\n",
       "      <td>0.000000</td>\n",
       "      <td>0.061703</td>\n",
       "      <td>...</td>\n",
       "      <td>0.020917</td>\n",
       "      <td>0.811469</td>\n",
       "      <td>0.000240</td>\n",
       "      <td>1.686806</td>\n",
       "      <td>0.821483</td>\n",
       "      <td>1.390606</td>\n",
       "      <td>27.640588</td>\n",
       "      <td>-16.353257</td>\n",
       "      <td>2015</td>\n",
       "      <td>7</td>\n",
       "    </tr>\n",
       "    <tr>\n",
       "      <th>...</th>\n",
       "      <td>...</td>\n",
       "      <td>...</td>\n",
       "      <td>...</td>\n",
       "      <td>...</td>\n",
       "      <td>...</td>\n",
       "      <td>...</td>\n",
       "      <td>...</td>\n",
       "      <td>...</td>\n",
       "      <td>...</td>\n",
       "      <td>...</td>\n",
       "      <td>...</td>\n",
       "      <td>...</td>\n",
       "      <td>...</td>\n",
       "      <td>...</td>\n",
       "      <td>...</td>\n",
       "      <td>...</td>\n",
       "      <td>...</td>\n",
       "      <td>...</td>\n",
       "      <td>...</td>\n",
       "      <td>...</td>\n",
       "      <td>...</td>\n",
       "    </tr>\n",
       "    <tr>\n",
       "      <th>199991</th>\n",
       "      <td>2.387391</td>\n",
       "      <td>0.002112</td>\n",
       "      <td>0.0</td>\n",
       "      <td>0.008450</td>\n",
       "      <td>0.352548</td>\n",
       "      <td>0.000000</td>\n",
       "      <td>0.000109</td>\n",
       "      <td>0.014153</td>\n",
       "      <td>0.004067</td>\n",
       "      <td>0.000038</td>\n",
       "      <td>...</td>\n",
       "      <td>0.073184</td>\n",
       "      <td>0.007211</td>\n",
       "      <td>0.001280</td>\n",
       "      <td>3.421628</td>\n",
       "      <td>8.959102</td>\n",
       "      <td>0.003259</td>\n",
       "      <td>28.840588</td>\n",
       "      <td>-16.133257</td>\n",
       "      <td>2021</td>\n",
       "      <td>12</td>\n",
       "    </tr>\n",
       "    <tr>\n",
       "      <th>199992</th>\n",
       "      <td>1.965491</td>\n",
       "      <td>0.001631</td>\n",
       "      <td>0.0</td>\n",
       "      <td>0.001495</td>\n",
       "      <td>0.294452</td>\n",
       "      <td>0.000000</td>\n",
       "      <td>0.000000</td>\n",
       "      <td>0.013237</td>\n",
       "      <td>0.003897</td>\n",
       "      <td>0.000034</td>\n",
       "      <td>...</td>\n",
       "      <td>0.058479</td>\n",
       "      <td>0.007029</td>\n",
       "      <td>0.001820</td>\n",
       "      <td>3.096588</td>\n",
       "      <td>8.468994</td>\n",
       "      <td>0.000266</td>\n",
       "      <td>28.810588</td>\n",
       "      <td>-16.123257</td>\n",
       "      <td>2021</td>\n",
       "      <td>12</td>\n",
       "    </tr>\n",
       "    <tr>\n",
       "      <th>199993</th>\n",
       "      <td>2.472738</td>\n",
       "      <td>0.002604</td>\n",
       "      <td>0.0</td>\n",
       "      <td>0.001409</td>\n",
       "      <td>0.501410</td>\n",
       "      <td>0.000000</td>\n",
       "      <td>0.000000</td>\n",
       "      <td>0.013417</td>\n",
       "      <td>0.005904</td>\n",
       "      <td>0.000032</td>\n",
       "      <td>...</td>\n",
       "      <td>0.043333</td>\n",
       "      <td>0.007251</td>\n",
       "      <td>0.002402</td>\n",
       "      <td>3.517559</td>\n",
       "      <td>9.647125</td>\n",
       "      <td>0.000244</td>\n",
       "      <td>28.800588</td>\n",
       "      <td>-16.123257</td>\n",
       "      <td>2021</td>\n",
       "      <td>12</td>\n",
       "    </tr>\n",
       "    <tr>\n",
       "      <th>199994</th>\n",
       "      <td>1.951534</td>\n",
       "      <td>0.000648</td>\n",
       "      <td>0.0</td>\n",
       "      <td>0.002376</td>\n",
       "      <td>0.309802</td>\n",
       "      <td>0.000000</td>\n",
       "      <td>0.000000</td>\n",
       "      <td>0.008557</td>\n",
       "      <td>0.008019</td>\n",
       "      <td>0.000037</td>\n",
       "      <td>...</td>\n",
       "      <td>0.074162</td>\n",
       "      <td>0.008880</td>\n",
       "      <td>0.007805</td>\n",
       "      <td>3.100524</td>\n",
       "      <td>8.452453</td>\n",
       "      <td>0.000618</td>\n",
       "      <td>28.800588</td>\n",
       "      <td>-16.183257</td>\n",
       "      <td>2021</td>\n",
       "      <td>12</td>\n",
       "    </tr>\n",
       "    <tr>\n",
       "      <th>199995</th>\n",
       "      <td>2.001232</td>\n",
       "      <td>0.001624</td>\n",
       "      <td>0.0</td>\n",
       "      <td>0.001698</td>\n",
       "      <td>0.197057</td>\n",
       "      <td>0.000000</td>\n",
       "      <td>0.000000</td>\n",
       "      <td>0.005865</td>\n",
       "      <td>0.001549</td>\n",
       "      <td>0.000000</td>\n",
       "      <td>...</td>\n",
       "      <td>0.032519</td>\n",
       "      <td>0.003615</td>\n",
       "      <td>0.000812</td>\n",
       "      <td>3.079844</td>\n",
       "      <td>8.330050</td>\n",
       "      <td>0.000386</td>\n",
       "      <td>27.830588</td>\n",
       "      <td>-16.803257</td>\n",
       "      <td>2021</td>\n",
       "      <td>12</td>\n",
       "    </tr>\n",
       "  </tbody>\n",
       "</table>\n",
       "<p>1218306 rows × 1004 columns</p>\n",
       "</div>"
      ],
      "text/plain": [
       "               0         1    2         3         4         5         6  \\\n",
       "0       0.000000  0.000000  0.0  0.000000  0.006633  0.001212  0.003540   \n",
       "1       0.000000  0.000000  0.0  0.000000  0.008555  0.000070  0.000237   \n",
       "2       0.000000  0.000000  0.0  0.000000  0.002536  0.001814  0.003352   \n",
       "3       0.000000  0.000000  0.0  0.000000  0.005713  0.000012  0.002416   \n",
       "4       0.000000  0.000000  0.0  0.000000  0.006963  0.000459  0.002465   \n",
       "...          ...       ...  ...       ...       ...       ...       ...   \n",
       "199991  2.387391  0.002112  0.0  0.008450  0.352548  0.000000  0.000109   \n",
       "199992  1.965491  0.001631  0.0  0.001495  0.294452  0.000000  0.000000   \n",
       "199993  2.472738  0.002604  0.0  0.001409  0.501410  0.000000  0.000000   \n",
       "199994  1.951534  0.000648  0.0  0.002376  0.309802  0.000000  0.000000   \n",
       "199995  2.001232  0.001624  0.0  0.001698  0.197057  0.000000  0.000000   \n",
       "\n",
       "               7         8         9  ...       994       995       996  \\\n",
       "0       0.668157  0.000000  0.149369  ...  0.017366  0.790204  0.000150   \n",
       "1       0.656944  0.000000  0.111461  ...  0.028406  0.791688  0.000019   \n",
       "2       0.563263  0.000000  0.103829  ...  0.035766  0.798527  0.000056   \n",
       "3       0.363920  0.000000  0.071478  ...  0.030403  0.833635  0.000238   \n",
       "4       0.518091  0.000000  0.061703  ...  0.020917  0.811469  0.000240   \n",
       "...          ...       ...       ...  ...       ...       ...       ...   \n",
       "199991  0.014153  0.004067  0.000038  ...  0.073184  0.007211  0.001280   \n",
       "199992  0.013237  0.003897  0.000034  ...  0.058479  0.007029  0.001820   \n",
       "199993  0.013417  0.005904  0.000032  ...  0.043333  0.007251  0.002402   \n",
       "199994  0.008557  0.008019  0.000037  ...  0.074162  0.008880  0.007805   \n",
       "199995  0.005865  0.001549  0.000000  ...  0.032519  0.003615  0.000812   \n",
       "\n",
       "             997       998       999        lon        lat  year  month  \n",
       "0       1.760779  0.803127  1.431991  27.660588 -16.343257  2015      7  \n",
       "1       1.763327  0.822992  1.465062  27.660588 -16.353257  2015      7  \n",
       "2       1.703802  0.812447  1.389176  27.650588 -16.353257  2015      7  \n",
       "3       1.568171  0.774129  1.292278  27.630588 -16.353257  2015      7  \n",
       "4       1.686806  0.821483  1.390606  27.640588 -16.353257  2015      7  \n",
       "...          ...       ...       ...        ...        ...   ...    ...  \n",
       "199991  3.421628  8.959102  0.003259  28.840588 -16.133257  2021     12  \n",
       "199992  3.096588  8.468994  0.000266  28.810588 -16.123257  2021     12  \n",
       "199993  3.517559  9.647125  0.000244  28.800588 -16.123257  2021     12  \n",
       "199994  3.100524  8.452453  0.000618  28.800588 -16.183257  2021     12  \n",
       "199995  3.079844  8.330050  0.000386  27.830588 -16.803257  2021     12  \n",
       "\n",
       "[1218306 rows x 1004 columns]"
      ]
     },
     "execution_count": 11,
     "metadata": {},
     "output_type": "execute_result"
    }
   ],
   "source": [
    "features"
   ]
  },
  {
   "cell_type": "code",
   "execution_count": 28,
   "id": "6854d343-b007-400c-9550-5f0392bb76b1",
   "metadata": {
    "tags": []
   },
   "outputs": [
    {
     "name": "stdout",
     "output_type": "stream",
     "text": [
      "Opening: sentinel-2-l2a_bands-3-4-5_ZMB_62k-points_1000-features_2019_1.feather\n",
      "features_zmb.shape (23346, 1004)\n",
      "Appending: 2019_1\n",
      "\n",
      "Opening: sentinel-2-l2a_bands-3-4-5_ZMB_62k-points_1000-features_2019_3.feather\n",
      "features_zmb.shape (76649, 1004)\n",
      "Appending: 2019_3\n",
      "\n",
      "Opening: sentinel-2-l2a_bands-3-4-5_ZMB_62k-points_1000-features_2019_4.feather\n",
      "features_zmb.shape (135629, 1004)\n",
      "Appending: 2019_4\n",
      "\n",
      "Opening: sentinel-2-l2a_bands-3-4-5_ZMB_62k-points_1000-features_2019_5.feather\n",
      "features_zmb.shape (196844, 1004)\n",
      "Appending: 2019_5\n",
      "\n",
      "Opening: sentinel-2-l2a_bands-3-4-5_ZMB_62k-points_1000-features_2019_10.feather\n",
      "features_zmb.shape (258648, 1004)\n",
      "Appending: 2019_10\n",
      "\n",
      "Opening: sentinel-2-l2a_bands-3-4-5_ZMB_62k-points_1000-features_2019_11.feather\n",
      "features_zmb.shape (315017, 1004)\n",
      "Appending: 2019_11\n",
      "\n",
      "Opening: sentinel-2-l2a_bands-3-4-5_ZMB_62k-points_1000-features_2019_12.feather\n",
      "features_zmb.shape (345932, 1004)\n",
      "Appending: 2019_12\n",
      "\n",
      "Opening: sentinel-2-l2a_bands-3-4-5_ZMB_62k-points_1000-features_2020_1.feather\n",
      "features_zmb.shape (360973, 1004)\n",
      "Appending: 2020_1\n",
      "\n",
      "Opening: sentinel-2-l2a_bands-3-4-5_ZMB_62k-points_1000-features_2020_2.feather\n",
      "features_zmb.shape (376387, 1004)\n",
      "Appending: 2020_2\n",
      "\n",
      "Opening: sentinel-2-l2a_bands-3-4-5_ZMB_62k-points_1000-features_2020_3.feather\n",
      "features_zmb.shape (405732, 1004)\n",
      "Appending: 2020_3\n",
      "\n",
      "Opening: sentinel-2-l2a_bands-3-4-5_ZMB_62k-points_1000-features_2020_5.feather\n",
      "features_zmb.shape (467626, 1004)\n",
      "Appending: 2020_5\n",
      "\n",
      "Opening: sentinel-2-l2a_bands-3-4-5_ZMB_62k-points_1000-features_2020_6.feather\n",
      "features_zmb.shape (529075, 1004)\n",
      "Appending: 2020_6\n",
      "\n",
      "Opening: sentinel-2-l2a_bands-3-4-5_ZMB_62k-points_1000-features_2020_7.feather\n",
      "features_zmb.shape (590891, 1004)\n",
      "Appending: 2020_7\n",
      "\n",
      "Opening: sentinel-2-l2a_bands-3-4-5_ZMB_62k-points_1000-features_2020_8.feather\n",
      "features_zmb.shape (652785, 1004)\n",
      "Appending: 2020_8\n",
      "\n",
      "Opening: sentinel-2-l2a_bands-3-4-5_ZMB_62k-points_1000-features_2020_9.feather\n",
      "features_zmb.shape (714679, 1004)\n",
      "Appending: 2020_9\n",
      "\n",
      "Opening: sentinel-2-l2a_bands-3-4-5_ZMB_62k-points_1000-features_2020_10.feather\n",
      "features_zmb.shape (776573, 1004)\n",
      "Appending: 2020_10\n",
      "\n",
      "Opening: sentinel-2-l2a_bands-3-4-5_ZMB_62k-points_1000-features_2020_11.feather\n",
      "features_zmb.shape (834124, 1004)\n",
      "Appending: 2020_11\n",
      "\n",
      "Opening: sentinel-2-l2a_bands-3-4-5_ZMB_62k-points_1000-features_2020_12.feather\n",
      "features_zmb.shape (837065, 1004)\n",
      "Appending: 2020_12\n",
      "\n",
      "Opening: sentinel-2-l2a_bands-3-4-5_ZMB_62k-points_1000-features_2021_1.feather\n",
      "features_zmb.shape (843062, 1004)\n",
      "Appending: 2021_1\n",
      "\n",
      "Opening: sentinel-2-l2a_bands-3-4-5_ZMB_62k-points_1000-features_2021_2.feather\n",
      "features_zmb.shape (865836, 1004)\n",
      "Appending: 2021_2\n",
      "\n",
      "Opening: sentinel-2-l2a_bands-3-4-5_ZMB_62k-points_1000-features_2021_3.feather\n",
      "features_zmb.shape (898098, 1004)\n",
      "Appending: 2021_3\n",
      "\n",
      "Opening: sentinel-2-l2a_bands-3-4-5_ZMB_62k-points_1000-features_2021_4.feather\n",
      "features_zmb.shape (950770, 1004)\n",
      "Appending: 2021_4\n",
      "\n",
      "Opening: sentinel-2-l2a_bands-3-4-5_ZMB_62k-points_1000-features_2021_5.feather\n",
      "features_zmb.shape (1012586, 1004)\n",
      "Appending: 2021_5\n",
      "\n",
      "Opening: sentinel-2-l2a_bands-3-4-5_ZMB_62k-points_1000-features_2021_6.feather\n",
      "features_zmb.shape (1074480, 1004)\n",
      "Appending: 2021_6\n",
      "\n",
      "Opening: sentinel-2-l2a_bands-3-4-5_ZMB_62k-points_1000-features_2021_7.feather\n",
      "features_zmb.shape (1136296, 1004)\n",
      "Appending: 2021_7\n",
      "\n",
      "Opening: sentinel-2-l2a_bands-3-4-5_ZMB_62k-points_1000-features_2021_8.feather\n",
      "features_zmb.shape (1198190, 1004)\n",
      "Appending: 2021_8\n",
      "\n",
      "Opening: sentinel-2-l2a_bands-3-4-5_ZMB_62k-points_1000-features_2021_9.feather\n",
      "features_zmb.shape (1260084, 1004)\n",
      "Appending: 2021_9\n",
      "\n",
      "Opening: sentinel-2-l2a_bands-3-4-5_ZMB_62k-points_1000-features_2021_10.feather\n",
      "features_zmb.shape (1314829, 1004)\n",
      "Appending: 2021_10\n",
      "\n",
      "Opening: sentinel-2-l2a_bands-3-4-5_ZMB_62k-points_1000-features_2021_11.feather\n",
      "features_zmb.shape (1368917, 1004)\n",
      "Appending: 2021_11\n",
      "\n",
      "Opening: sentinel-2-l2a_bands-3-4-5_ZMB_62k-points_1000-features_2021_12.feather\n",
      "features_zmb.shape (1420533, 1004)\n",
      "Appending: 2021_12\n",
      "\n"
     ]
    }
   ],
   "source": [
    "features_zmb = geopandas.GeoDataFrame()\n",
    "\n",
    "points2 = 62\n",
    "data_dir_zmb = \"/capstone/mosaiks/repos/modeling/data/zambia_all_good\"\n",
    "\n",
    "feature_file_name_zmb = (f'{satellite}_bands-{bands}_{country_code}_62k-points_{num_features}-features')\n",
    "\n",
    "for yr in range(2019, year_end + 1):\n",
    "    if yr == 2015:\n",
    "        start_month = 7\n",
    "    else:\n",
    "        start_month = 1\n",
    "    if yr == 2022:\n",
    "        end_month = 12\n",
    "    else:\n",
    "        end_month = 12\n",
    "    for month in range(start_month, end_month + 1):\n",
    "        file_name = f\"{feature_file_name_zmb}_{yr}_{month}.feather\"\n",
    "        if file_name.endswith(\"2019_2.feather\") or file_name.endswith(\"2019_6.feather\") or file_name.endswith(\"2019_7.feather\") or file_name.endswith(\"2019_8.feather\") or file_name.endswith(\"2019_9.feather\") or file_name.endswith(\"2020_4.feather\"):\n",
    "            continue  # skip this file\n",
    "        print(f\"Opening: {file_name}\")\n",
    "        features_xzmb = pd.read_feather(f\"{data_dir_zmb}/{file_name}\")\n",
    "\n",
    "        # concatenate the feather files together, axis = 0 specifies to stack rows (rather than adding columns)\n",
    "        features_zmb = pd.concat([features_zmb, features_xzmb], axis=0)\n",
    "\n",
    "        print(\"features_zmb.shape\", features_zmb.shape)\n",
    "        print(f\"Appending: {yr}_{month}\")\n",
    "        print(\"\")\n"
   ]
  },
  {
   "cell_type": "markdown",
   "id": "470e9d09-4c14-4adc-af1f-5291c6160f6f",
   "metadata": {},
   "source": [
    "The code below filters the `features` dataset for the first year based on `month_start`, which is dependent on satellite. These three conditions need to be met. See "
   ]
  },
  {
   "cell_type": "code",
   "execution_count": 29,
   "id": "8335a372-43e8-48ca-a2dd-bfb5df5d73da",
   "metadata": {
    "tags": []
   },
   "outputs": [],
   "source": [
    "if include_2013 & (satellite == \"landsat-8-c2-l2\") & (month_range == [4, 5, 6, 7, 8, 9]):\n",
    "    month_start = 4\n",
    "else:\n",
    "    month_start = 10\n",
    "    \n",
    "month_start\n",
    "\n",
    "keep = np.where(\n",
    "    ((features.year == year_start) & (features.month >= month_start)) | (features.year > year_start),\n",
    "    True, False\n",
    ")\n",
    "features = features[keep]"
   ]
  },
  {
   "cell_type": "code",
   "execution_count": 30,
   "id": "5782c568-a599-4f46-87af-84ae52bc4079",
   "metadata": {
    "tags": []
   },
   "outputs": [],
   "source": [
    "if include_2013 & (satellite == \"landsat-8-c2-l2\") & (month_range == [4, 5, 6, 7, 8, 9]):\n",
    "    month_start = 4\n",
    "else:\n",
    "    month_start = 10\n",
    "    \n",
    "month_start\n",
    "\n",
    "keepz = np.where(\n",
    "    ((features_zmb.year == year_start) & (features_zmb.month >= month_start)) | (features_zmb.year > year_start),\n",
    "    True, False\n",
    ")\n",
    "features_zmb = features_zmb[keepz]"
   ]
  },
  {
   "cell_type": "code",
   "execution_count": 31,
   "id": "e2127bf6-f4ab-403c-99f2-d61448227509",
   "metadata": {
    "tags": []
   },
   "outputs": [
    {
     "data": {
      "text/html": [
       "<div>\n",
       "<style scoped>\n",
       "    .dataframe tbody tr th:only-of-type {\n",
       "        vertical-align: middle;\n",
       "    }\n",
       "\n",
       "    .dataframe tbody tr th {\n",
       "        vertical-align: top;\n",
       "    }\n",
       "\n",
       "    .dataframe thead th {\n",
       "        text-align: right;\n",
       "    }\n",
       "</style>\n",
       "<table border=\"1\" class=\"dataframe\">\n",
       "  <thead>\n",
       "    <tr style=\"text-align: right;\">\n",
       "      <th></th>\n",
       "      <th>0</th>\n",
       "      <th>1</th>\n",
       "      <th>2</th>\n",
       "      <th>3</th>\n",
       "      <th>4</th>\n",
       "      <th>5</th>\n",
       "      <th>6</th>\n",
       "      <th>7</th>\n",
       "      <th>8</th>\n",
       "      <th>9</th>\n",
       "      <th>...</th>\n",
       "      <th>994</th>\n",
       "      <th>995</th>\n",
       "      <th>996</th>\n",
       "      <th>997</th>\n",
       "      <th>998</th>\n",
       "      <th>999</th>\n",
       "      <th>lon</th>\n",
       "      <th>lat</th>\n",
       "      <th>year</th>\n",
       "      <th>month</th>\n",
       "    </tr>\n",
       "  </thead>\n",
       "  <tbody>\n",
       "    <tr>\n",
       "      <th>16344</th>\n",
       "      <td>0.000126</td>\n",
       "      <td>0.000000</td>\n",
       "      <td>0.0</td>\n",
       "      <td>0.000004</td>\n",
       "      <td>0.023333</td>\n",
       "      <td>0.014252</td>\n",
       "      <td>0.006047</td>\n",
       "      <td>0.726479</td>\n",
       "      <td>0.000000</td>\n",
       "      <td>0.543347</td>\n",
       "      <td>...</td>\n",
       "      <td>0.140589</td>\n",
       "      <td>0.757039</td>\n",
       "      <td>0.003524</td>\n",
       "      <td>1.662495</td>\n",
       "      <td>0.658733</td>\n",
       "      <td>1.251002</td>\n",
       "      <td>22.300588</td>\n",
       "      <td>-16.403257</td>\n",
       "      <td>2016</td>\n",
       "      <td>4</td>\n",
       "    </tr>\n",
       "    <tr>\n",
       "      <th>16345</th>\n",
       "      <td>0.000034</td>\n",
       "      <td>0.000000</td>\n",
       "      <td>0.0</td>\n",
       "      <td>0.000000</td>\n",
       "      <td>0.004094</td>\n",
       "      <td>0.001559</td>\n",
       "      <td>0.000662</td>\n",
       "      <td>0.205841</td>\n",
       "      <td>0.000000</td>\n",
       "      <td>0.175140</td>\n",
       "      <td>...</td>\n",
       "      <td>0.241709</td>\n",
       "      <td>0.820777</td>\n",
       "      <td>0.003851</td>\n",
       "      <td>1.429543</td>\n",
       "      <td>0.719894</td>\n",
       "      <td>1.121300</td>\n",
       "      <td>22.300588</td>\n",
       "      <td>-16.413257</td>\n",
       "      <td>2016</td>\n",
       "      <td>4</td>\n",
       "    </tr>\n",
       "    <tr>\n",
       "      <th>16346</th>\n",
       "      <td>0.000000</td>\n",
       "      <td>0.000000</td>\n",
       "      <td>0.0</td>\n",
       "      <td>0.000000</td>\n",
       "      <td>0.006463</td>\n",
       "      <td>0.002748</td>\n",
       "      <td>0.002389</td>\n",
       "      <td>0.350295</td>\n",
       "      <td>0.000000</td>\n",
       "      <td>0.237781</td>\n",
       "      <td>...</td>\n",
       "      <td>0.164866</td>\n",
       "      <td>0.803131</td>\n",
       "      <td>0.003030</td>\n",
       "      <td>1.507420</td>\n",
       "      <td>0.715531</td>\n",
       "      <td>1.169295</td>\n",
       "      <td>22.300588</td>\n",
       "      <td>-16.423257</td>\n",
       "      <td>2016</td>\n",
       "      <td>4</td>\n",
       "    </tr>\n",
       "    <tr>\n",
       "      <th>16347</th>\n",
       "      <td>0.000000</td>\n",
       "      <td>0.000000</td>\n",
       "      <td>0.0</td>\n",
       "      <td>0.000000</td>\n",
       "      <td>0.008171</td>\n",
       "      <td>0.001485</td>\n",
       "      <td>0.003102</td>\n",
       "      <td>0.229461</td>\n",
       "      <td>0.000000</td>\n",
       "      <td>0.179475</td>\n",
       "      <td>...</td>\n",
       "      <td>0.169720</td>\n",
       "      <td>0.823966</td>\n",
       "      <td>0.002027</td>\n",
       "      <td>1.439736</td>\n",
       "      <td>0.716202</td>\n",
       "      <td>1.129209</td>\n",
       "      <td>22.300588</td>\n",
       "      <td>-16.433257</td>\n",
       "      <td>2016</td>\n",
       "      <td>4</td>\n",
       "    </tr>\n",
       "    <tr>\n",
       "      <th>16348</th>\n",
       "      <td>0.000000</td>\n",
       "      <td>0.000000</td>\n",
       "      <td>0.0</td>\n",
       "      <td>0.000000</td>\n",
       "      <td>0.004273</td>\n",
       "      <td>0.003120</td>\n",
       "      <td>0.001362</td>\n",
       "      <td>0.287508</td>\n",
       "      <td>0.000000</td>\n",
       "      <td>0.205289</td>\n",
       "      <td>...</td>\n",
       "      <td>0.184368</td>\n",
       "      <td>0.814275</td>\n",
       "      <td>0.003175</td>\n",
       "      <td>1.474359</td>\n",
       "      <td>0.725103</td>\n",
       "      <td>1.154440</td>\n",
       "      <td>22.300588</td>\n",
       "      <td>-16.443257</td>\n",
       "      <td>2016</td>\n",
       "      <td>4</td>\n",
       "    </tr>\n",
       "    <tr>\n",
       "      <th>...</th>\n",
       "      <td>...</td>\n",
       "      <td>...</td>\n",
       "      <td>...</td>\n",
       "      <td>...</td>\n",
       "      <td>...</td>\n",
       "      <td>...</td>\n",
       "      <td>...</td>\n",
       "      <td>...</td>\n",
       "      <td>...</td>\n",
       "      <td>...</td>\n",
       "      <td>...</td>\n",
       "      <td>...</td>\n",
       "      <td>...</td>\n",
       "      <td>...</td>\n",
       "      <td>...</td>\n",
       "      <td>...</td>\n",
       "      <td>...</td>\n",
       "      <td>...</td>\n",
       "      <td>...</td>\n",
       "      <td>...</td>\n",
       "      <td>...</td>\n",
       "    </tr>\n",
       "    <tr>\n",
       "      <th>140687</th>\n",
       "      <td>2.115747</td>\n",
       "      <td>0.001212</td>\n",
       "      <td>0.0</td>\n",
       "      <td>0.006568</td>\n",
       "      <td>0.206623</td>\n",
       "      <td>0.000000</td>\n",
       "      <td>0.000030</td>\n",
       "      <td>0.013083</td>\n",
       "      <td>0.003094</td>\n",
       "      <td>0.000022</td>\n",
       "      <td>...</td>\n",
       "      <td>0.056308</td>\n",
       "      <td>0.006625</td>\n",
       "      <td>0.000696</td>\n",
       "      <td>3.129424</td>\n",
       "      <td>8.555662</td>\n",
       "      <td>0.002893</td>\n",
       "      <td>28.840588</td>\n",
       "      <td>-16.133257</td>\n",
       "      <td>2021</td>\n",
       "      <td>9</td>\n",
       "    </tr>\n",
       "    <tr>\n",
       "      <th>140688</th>\n",
       "      <td>1.932575</td>\n",
       "      <td>0.001172</td>\n",
       "      <td>0.0</td>\n",
       "      <td>0.001596</td>\n",
       "      <td>0.178699</td>\n",
       "      <td>0.000000</td>\n",
       "      <td>0.000000</td>\n",
       "      <td>0.012673</td>\n",
       "      <td>0.003260</td>\n",
       "      <td>0.000016</td>\n",
       "      <td>...</td>\n",
       "      <td>0.043396</td>\n",
       "      <td>0.006454</td>\n",
       "      <td>0.001454</td>\n",
       "      <td>2.996585</td>\n",
       "      <td>8.286269</td>\n",
       "      <td>0.000244</td>\n",
       "      <td>28.810588</td>\n",
       "      <td>-16.123257</td>\n",
       "      <td>2021</td>\n",
       "      <td>9</td>\n",
       "    </tr>\n",
       "    <tr>\n",
       "      <th>140689</th>\n",
       "      <td>2.220830</td>\n",
       "      <td>0.001907</td>\n",
       "      <td>0.0</td>\n",
       "      <td>0.001281</td>\n",
       "      <td>0.321205</td>\n",
       "      <td>0.000000</td>\n",
       "      <td>0.000000</td>\n",
       "      <td>0.013331</td>\n",
       "      <td>0.005687</td>\n",
       "      <td>0.000035</td>\n",
       "      <td>...</td>\n",
       "      <td>0.041747</td>\n",
       "      <td>0.006853</td>\n",
       "      <td>0.002094</td>\n",
       "      <td>3.230055</td>\n",
       "      <td>9.195028</td>\n",
       "      <td>0.000252</td>\n",
       "      <td>28.800588</td>\n",
       "      <td>-16.123257</td>\n",
       "      <td>2021</td>\n",
       "      <td>9</td>\n",
       "    </tr>\n",
       "    <tr>\n",
       "      <th>140690</th>\n",
       "      <td>1.812148</td>\n",
       "      <td>0.000174</td>\n",
       "      <td>0.0</td>\n",
       "      <td>0.001394</td>\n",
       "      <td>0.113455</td>\n",
       "      <td>0.000000</td>\n",
       "      <td>0.000000</td>\n",
       "      <td>0.007274</td>\n",
       "      <td>0.004198</td>\n",
       "      <td>0.000003</td>\n",
       "      <td>...</td>\n",
       "      <td>0.045297</td>\n",
       "      <td>0.007965</td>\n",
       "      <td>0.005357</td>\n",
       "      <td>2.909695</td>\n",
       "      <td>7.881940</td>\n",
       "      <td>0.000285</td>\n",
       "      <td>28.800588</td>\n",
       "      <td>-16.183257</td>\n",
       "      <td>2021</td>\n",
       "      <td>9</td>\n",
       "    </tr>\n",
       "    <tr>\n",
       "      <th>140691</th>\n",
       "      <td>1.695652</td>\n",
       "      <td>0.000706</td>\n",
       "      <td>0.0</td>\n",
       "      <td>0.001603</td>\n",
       "      <td>0.126152</td>\n",
       "      <td>0.000000</td>\n",
       "      <td>0.000000</td>\n",
       "      <td>0.005031</td>\n",
       "      <td>0.001336</td>\n",
       "      <td>0.000000</td>\n",
       "      <td>...</td>\n",
       "      <td>0.030822</td>\n",
       "      <td>0.004385</td>\n",
       "      <td>0.000725</td>\n",
       "      <td>2.856315</td>\n",
       "      <td>7.715406</td>\n",
       "      <td>0.000360</td>\n",
       "      <td>27.830588</td>\n",
       "      <td>-16.803257</td>\n",
       "      <td>2021</td>\n",
       "      <td>9</td>\n",
       "    </tr>\n",
       "  </tbody>\n",
       "</table>\n",
       "<p>756968 rows × 1004 columns</p>\n",
       "</div>"
      ],
      "text/plain": [
       "               0         1    2         3         4         5         6  \\\n",
       "16344   0.000126  0.000000  0.0  0.000004  0.023333  0.014252  0.006047   \n",
       "16345   0.000034  0.000000  0.0  0.000000  0.004094  0.001559  0.000662   \n",
       "16346   0.000000  0.000000  0.0  0.000000  0.006463  0.002748  0.002389   \n",
       "16347   0.000000  0.000000  0.0  0.000000  0.008171  0.001485  0.003102   \n",
       "16348   0.000000  0.000000  0.0  0.000000  0.004273  0.003120  0.001362   \n",
       "...          ...       ...  ...       ...       ...       ...       ...   \n",
       "140687  2.115747  0.001212  0.0  0.006568  0.206623  0.000000  0.000030   \n",
       "140688  1.932575  0.001172  0.0  0.001596  0.178699  0.000000  0.000000   \n",
       "140689  2.220830  0.001907  0.0  0.001281  0.321205  0.000000  0.000000   \n",
       "140690  1.812148  0.000174  0.0  0.001394  0.113455  0.000000  0.000000   \n",
       "140691  1.695652  0.000706  0.0  0.001603  0.126152  0.000000  0.000000   \n",
       "\n",
       "               7         8         9  ...       994       995       996  \\\n",
       "16344   0.726479  0.000000  0.543347  ...  0.140589  0.757039  0.003524   \n",
       "16345   0.205841  0.000000  0.175140  ...  0.241709  0.820777  0.003851   \n",
       "16346   0.350295  0.000000  0.237781  ...  0.164866  0.803131  0.003030   \n",
       "16347   0.229461  0.000000  0.179475  ...  0.169720  0.823966  0.002027   \n",
       "16348   0.287508  0.000000  0.205289  ...  0.184368  0.814275  0.003175   \n",
       "...          ...       ...       ...  ...       ...       ...       ...   \n",
       "140687  0.013083  0.003094  0.000022  ...  0.056308  0.006625  0.000696   \n",
       "140688  0.012673  0.003260  0.000016  ...  0.043396  0.006454  0.001454   \n",
       "140689  0.013331  0.005687  0.000035  ...  0.041747  0.006853  0.002094   \n",
       "140690  0.007274  0.004198  0.000003  ...  0.045297  0.007965  0.005357   \n",
       "140691  0.005031  0.001336  0.000000  ...  0.030822  0.004385  0.000725   \n",
       "\n",
       "             997       998       999        lon        lat  year  month  \n",
       "16344   1.662495  0.658733  1.251002  22.300588 -16.403257  2016      4  \n",
       "16345   1.429543  0.719894  1.121300  22.300588 -16.413257  2016      4  \n",
       "16346   1.507420  0.715531  1.169295  22.300588 -16.423257  2016      4  \n",
       "16347   1.439736  0.716202  1.129209  22.300588 -16.433257  2016      4  \n",
       "16348   1.474359  0.725103  1.154440  22.300588 -16.443257  2016      4  \n",
       "...          ...       ...       ...        ...        ...   ...    ...  \n",
       "140687  3.129424  8.555662  0.002893  28.840588 -16.133257  2021      9  \n",
       "140688  2.996585  8.286269  0.000244  28.810588 -16.123257  2021      9  \n",
       "140689  3.230055  9.195028  0.000252  28.800588 -16.123257  2021      9  \n",
       "140690  2.909695  7.881940  0.000285  28.800588 -16.183257  2021      9  \n",
       "140691  2.856315  7.715406  0.000360  27.830588 -16.803257  2021      9  \n",
       "\n",
       "[756968 rows x 1004 columns]"
      ]
     },
     "execution_count": 31,
     "metadata": {},
     "output_type": "execute_result"
    }
   ],
   "source": [
    "# check to see what is going on (carlo)\n",
    "features"
   ]
  },
  {
   "cell_type": "code",
   "execution_count": 32,
   "id": "ed7c664d-47a9-4b9d-97ed-cb80febf020f",
   "metadata": {
    "tags": []
   },
   "outputs": [
    {
     "data": {
      "text/html": [
       "<div>\n",
       "<style scoped>\n",
       "    .dataframe tbody tr th:only-of-type {\n",
       "        vertical-align: middle;\n",
       "    }\n",
       "\n",
       "    .dataframe tbody tr th {\n",
       "        vertical-align: top;\n",
       "    }\n",
       "\n",
       "    .dataframe thead th {\n",
       "        text-align: right;\n",
       "    }\n",
       "</style>\n",
       "<table border=\"1\" class=\"dataframe\">\n",
       "  <thead>\n",
       "    <tr style=\"text-align: right;\">\n",
       "      <th></th>\n",
       "      <th>0</th>\n",
       "      <th>1</th>\n",
       "      <th>2</th>\n",
       "      <th>3</th>\n",
       "      <th>4</th>\n",
       "      <th>5</th>\n",
       "      <th>6</th>\n",
       "      <th>7</th>\n",
       "      <th>8</th>\n",
       "      <th>9</th>\n",
       "      <th>...</th>\n",
       "      <th>994</th>\n",
       "      <th>995</th>\n",
       "      <th>996</th>\n",
       "      <th>997</th>\n",
       "      <th>998</th>\n",
       "      <th>999</th>\n",
       "      <th>lon</th>\n",
       "      <th>lat</th>\n",
       "      <th>year</th>\n",
       "      <th>month</th>\n",
       "    </tr>\n",
       "  </thead>\n",
       "  <tbody>\n",
       "    <tr>\n",
       "      <th>0</th>\n",
       "      <td>0.000000</td>\n",
       "      <td>0.000000</td>\n",
       "      <td>1.093923e-04</td>\n",
       "      <td>0.029733</td>\n",
       "      <td>0.001222</td>\n",
       "      <td>0.000000</td>\n",
       "      <td>0.000000</td>\n",
       "      <td>0.029242</td>\n",
       "      <td>0.0</td>\n",
       "      <td>0.000000</td>\n",
       "      <td>...</td>\n",
       "      <td>0.003010</td>\n",
       "      <td>2.225387</td>\n",
       "      <td>3.084172</td>\n",
       "      <td>0.020853</td>\n",
       "      <td>1.584504</td>\n",
       "      <td>0.002072</td>\n",
       "      <td>23.550588</td>\n",
       "      <td>-17.253257</td>\n",
       "      <td>2019</td>\n",
       "      <td>1</td>\n",
       "    </tr>\n",
       "    <tr>\n",
       "      <th>1</th>\n",
       "      <td>0.000045</td>\n",
       "      <td>0.000000</td>\n",
       "      <td>6.963934e-04</td>\n",
       "      <td>0.199070</td>\n",
       "      <td>0.017302</td>\n",
       "      <td>0.000030</td>\n",
       "      <td>0.000004</td>\n",
       "      <td>0.272982</td>\n",
       "      <td>0.0</td>\n",
       "      <td>0.000000</td>\n",
       "      <td>...</td>\n",
       "      <td>0.013209</td>\n",
       "      <td>2.511381</td>\n",
       "      <td>3.473885</td>\n",
       "      <td>0.023940</td>\n",
       "      <td>1.536476</td>\n",
       "      <td>0.012022</td>\n",
       "      <td>23.550588</td>\n",
       "      <td>-17.223257</td>\n",
       "      <td>2019</td>\n",
       "      <td>1</td>\n",
       "    </tr>\n",
       "    <tr>\n",
       "      <th>2</th>\n",
       "      <td>0.000935</td>\n",
       "      <td>0.000000</td>\n",
       "      <td>3.118716e-03</td>\n",
       "      <td>0.444731</td>\n",
       "      <td>0.047243</td>\n",
       "      <td>0.000379</td>\n",
       "      <td>0.000847</td>\n",
       "      <td>0.639564</td>\n",
       "      <td>0.0</td>\n",
       "      <td>0.000003</td>\n",
       "      <td>...</td>\n",
       "      <td>0.012810</td>\n",
       "      <td>2.852094</td>\n",
       "      <td>3.964520</td>\n",
       "      <td>0.021431</td>\n",
       "      <td>1.485879</td>\n",
       "      <td>0.008332</td>\n",
       "      <td>23.510588</td>\n",
       "      <td>-17.233257</td>\n",
       "      <td>2019</td>\n",
       "      <td>1</td>\n",
       "    </tr>\n",
       "    <tr>\n",
       "      <th>3</th>\n",
       "      <td>0.000594</td>\n",
       "      <td>0.000178</td>\n",
       "      <td>3.853190e-03</td>\n",
       "      <td>0.537168</td>\n",
       "      <td>0.105258</td>\n",
       "      <td>0.001176</td>\n",
       "      <td>0.002476</td>\n",
       "      <td>0.777649</td>\n",
       "      <td>0.0</td>\n",
       "      <td>0.000000</td>\n",
       "      <td>...</td>\n",
       "      <td>0.014671</td>\n",
       "      <td>2.980078</td>\n",
       "      <td>4.122962</td>\n",
       "      <td>0.018168</td>\n",
       "      <td>1.444356</td>\n",
       "      <td>0.006324</td>\n",
       "      <td>23.490588</td>\n",
       "      <td>-17.243257</td>\n",
       "      <td>2019</td>\n",
       "      <td>1</td>\n",
       "    </tr>\n",
       "    <tr>\n",
       "      <th>4</th>\n",
       "      <td>0.000287</td>\n",
       "      <td>0.000000</td>\n",
       "      <td>8.989188e-04</td>\n",
       "      <td>0.131341</td>\n",
       "      <td>0.010288</td>\n",
       "      <td>0.000018</td>\n",
       "      <td>0.000044</td>\n",
       "      <td>0.213933</td>\n",
       "      <td>0.0</td>\n",
       "      <td>0.000000</td>\n",
       "      <td>...</td>\n",
       "      <td>0.006773</td>\n",
       "      <td>2.436832</td>\n",
       "      <td>3.311054</td>\n",
       "      <td>0.026327</td>\n",
       "      <td>1.450885</td>\n",
       "      <td>0.008088</td>\n",
       "      <td>23.470588</td>\n",
       "      <td>-17.233257</td>\n",
       "      <td>2019</td>\n",
       "      <td>1</td>\n",
       "    </tr>\n",
       "    <tr>\n",
       "      <th>...</th>\n",
       "      <td>...</td>\n",
       "      <td>...</td>\n",
       "      <td>...</td>\n",
       "      <td>...</td>\n",
       "      <td>...</td>\n",
       "      <td>...</td>\n",
       "      <td>...</td>\n",
       "      <td>...</td>\n",
       "      <td>...</td>\n",
       "      <td>...</td>\n",
       "      <td>...</td>\n",
       "      <td>...</td>\n",
       "      <td>...</td>\n",
       "      <td>...</td>\n",
       "      <td>...</td>\n",
       "      <td>...</td>\n",
       "      <td>...</td>\n",
       "      <td>...</td>\n",
       "      <td>...</td>\n",
       "      <td>...</td>\n",
       "      <td>...</td>\n",
       "    </tr>\n",
       "    <tr>\n",
       "      <th>51611</th>\n",
       "      <td>0.000000</td>\n",
       "      <td>0.000000</td>\n",
       "      <td>1.830568e-07</td>\n",
       "      <td>0.062333</td>\n",
       "      <td>0.020700</td>\n",
       "      <td>0.000000</td>\n",
       "      <td>0.001249</td>\n",
       "      <td>0.123465</td>\n",
       "      <td>0.0</td>\n",
       "      <td>0.000000</td>\n",
       "      <td>...</td>\n",
       "      <td>0.008417</td>\n",
       "      <td>2.356939</td>\n",
       "      <td>2.800332</td>\n",
       "      <td>0.014697</td>\n",
       "      <td>1.063967</td>\n",
       "      <td>0.003308</td>\n",
       "      <td>28.140588</td>\n",
       "      <td>-16.823257</td>\n",
       "      <td>2021</td>\n",
       "      <td>12</td>\n",
       "    </tr>\n",
       "    <tr>\n",
       "      <th>51612</th>\n",
       "      <td>0.000000</td>\n",
       "      <td>0.000000</td>\n",
       "      <td>0.000000e+00</td>\n",
       "      <td>0.000000</td>\n",
       "      <td>0.002201</td>\n",
       "      <td>0.000000</td>\n",
       "      <td>0.000000</td>\n",
       "      <td>0.000954</td>\n",
       "      <td>0.0</td>\n",
       "      <td>0.000000</td>\n",
       "      <td>...</td>\n",
       "      <td>0.010280</td>\n",
       "      <td>2.237035</td>\n",
       "      <td>2.626476</td>\n",
       "      <td>0.018015</td>\n",
       "      <td>1.095296</td>\n",
       "      <td>0.008401</td>\n",
       "      <td>28.100588</td>\n",
       "      <td>-16.853257</td>\n",
       "      <td>2021</td>\n",
       "      <td>12</td>\n",
       "    </tr>\n",
       "    <tr>\n",
       "      <th>51613</th>\n",
       "      <td>0.000000</td>\n",
       "      <td>0.000000</td>\n",
       "      <td>0.000000e+00</td>\n",
       "      <td>0.000000</td>\n",
       "      <td>0.000549</td>\n",
       "      <td>0.000000</td>\n",
       "      <td>0.000000</td>\n",
       "      <td>0.000000</td>\n",
       "      <td>0.0</td>\n",
       "      <td>0.000000</td>\n",
       "      <td>...</td>\n",
       "      <td>0.010177</td>\n",
       "      <td>1.965624</td>\n",
       "      <td>2.296301</td>\n",
       "      <td>0.163124</td>\n",
       "      <td>1.157992</td>\n",
       "      <td>0.029564</td>\n",
       "      <td>27.900588</td>\n",
       "      <td>-16.933257</td>\n",
       "      <td>2021</td>\n",
       "      <td>12</td>\n",
       "    </tr>\n",
       "    <tr>\n",
       "      <th>51614</th>\n",
       "      <td>0.000000</td>\n",
       "      <td>0.000000</td>\n",
       "      <td>0.000000e+00</td>\n",
       "      <td>0.000000</td>\n",
       "      <td>0.000000</td>\n",
       "      <td>0.000000</td>\n",
       "      <td>0.000000</td>\n",
       "      <td>0.000000</td>\n",
       "      <td>0.0</td>\n",
       "      <td>0.000000</td>\n",
       "      <td>...</td>\n",
       "      <td>0.006088</td>\n",
       "      <td>1.931872</td>\n",
       "      <td>2.235770</td>\n",
       "      <td>0.196215</td>\n",
       "      <td>1.144749</td>\n",
       "      <td>0.056101</td>\n",
       "      <td>27.870588</td>\n",
       "      <td>-16.933257</td>\n",
       "      <td>2021</td>\n",
       "      <td>12</td>\n",
       "    </tr>\n",
       "    <tr>\n",
       "      <th>51615</th>\n",
       "      <td>0.000000</td>\n",
       "      <td>0.000000</td>\n",
       "      <td>0.000000e+00</td>\n",
       "      <td>0.000000</td>\n",
       "      <td>0.000000</td>\n",
       "      <td>0.000000</td>\n",
       "      <td>0.000000</td>\n",
       "      <td>0.000000</td>\n",
       "      <td>0.0</td>\n",
       "      <td>0.000000</td>\n",
       "      <td>...</td>\n",
       "      <td>0.012901</td>\n",
       "      <td>1.826193</td>\n",
       "      <td>2.080719</td>\n",
       "      <td>0.289099</td>\n",
       "      <td>1.127885</td>\n",
       "      <td>0.165132</td>\n",
       "      <td>27.830588</td>\n",
       "      <td>-16.943257</td>\n",
       "      <td>2021</td>\n",
       "      <td>12</td>\n",
       "    </tr>\n",
       "  </tbody>\n",
       "</table>\n",
       "<p>1420533 rows × 1004 columns</p>\n",
       "</div>"
      ],
      "text/plain": [
       "              0         1             2         3         4         5  \\\n",
       "0      0.000000  0.000000  1.093923e-04  0.029733  0.001222  0.000000   \n",
       "1      0.000045  0.000000  6.963934e-04  0.199070  0.017302  0.000030   \n",
       "2      0.000935  0.000000  3.118716e-03  0.444731  0.047243  0.000379   \n",
       "3      0.000594  0.000178  3.853190e-03  0.537168  0.105258  0.001176   \n",
       "4      0.000287  0.000000  8.989188e-04  0.131341  0.010288  0.000018   \n",
       "...         ...       ...           ...       ...       ...       ...   \n",
       "51611  0.000000  0.000000  1.830568e-07  0.062333  0.020700  0.000000   \n",
       "51612  0.000000  0.000000  0.000000e+00  0.000000  0.002201  0.000000   \n",
       "51613  0.000000  0.000000  0.000000e+00  0.000000  0.000549  0.000000   \n",
       "51614  0.000000  0.000000  0.000000e+00  0.000000  0.000000  0.000000   \n",
       "51615  0.000000  0.000000  0.000000e+00  0.000000  0.000000  0.000000   \n",
       "\n",
       "              6         7    8         9  ...       994       995       996  \\\n",
       "0      0.000000  0.029242  0.0  0.000000  ...  0.003010  2.225387  3.084172   \n",
       "1      0.000004  0.272982  0.0  0.000000  ...  0.013209  2.511381  3.473885   \n",
       "2      0.000847  0.639564  0.0  0.000003  ...  0.012810  2.852094  3.964520   \n",
       "3      0.002476  0.777649  0.0  0.000000  ...  0.014671  2.980078  4.122962   \n",
       "4      0.000044  0.213933  0.0  0.000000  ...  0.006773  2.436832  3.311054   \n",
       "...         ...       ...  ...       ...  ...       ...       ...       ...   \n",
       "51611  0.001249  0.123465  0.0  0.000000  ...  0.008417  2.356939  2.800332   \n",
       "51612  0.000000  0.000954  0.0  0.000000  ...  0.010280  2.237035  2.626476   \n",
       "51613  0.000000  0.000000  0.0  0.000000  ...  0.010177  1.965624  2.296301   \n",
       "51614  0.000000  0.000000  0.0  0.000000  ...  0.006088  1.931872  2.235770   \n",
       "51615  0.000000  0.000000  0.0  0.000000  ...  0.012901  1.826193  2.080719   \n",
       "\n",
       "            997       998       999        lon        lat  year  month  \n",
       "0      0.020853  1.584504  0.002072  23.550588 -17.253257  2019      1  \n",
       "1      0.023940  1.536476  0.012022  23.550588 -17.223257  2019      1  \n",
       "2      0.021431  1.485879  0.008332  23.510588 -17.233257  2019      1  \n",
       "3      0.018168  1.444356  0.006324  23.490588 -17.243257  2019      1  \n",
       "4      0.026327  1.450885  0.008088  23.470588 -17.233257  2019      1  \n",
       "...         ...       ...       ...        ...        ...   ...    ...  \n",
       "51611  0.014697  1.063967  0.003308  28.140588 -16.823257  2021     12  \n",
       "51612  0.018015  1.095296  0.008401  28.100588 -16.853257  2021     12  \n",
       "51613  0.163124  1.157992  0.029564  27.900588 -16.933257  2021     12  \n",
       "51614  0.196215  1.144749  0.056101  27.870588 -16.933257  2021     12  \n",
       "51615  0.289099  1.127885  0.165132  27.830588 -16.943257  2021     12  \n",
       "\n",
       "[1420533 rows x 1004 columns]"
      ]
     },
     "execution_count": 32,
     "metadata": {},
     "output_type": "execute_result"
    }
   ],
   "source": [
    "# check to see what is going on (andrew)\n",
    "features_zmb"
   ]
  },
  {
   "cell_type": "code",
   "execution_count": 33,
   "id": "2a8b4918",
   "metadata": {
    "tags": []
   },
   "outputs": [],
   "source": [
    "# carry months October, November, and December over to the following year's data\n",
    "# these months represent the start of the growing season for the following year's maize yield\n",
    "features['year'] = np.where(\n",
    "    features['month'].isin([10, 11, 12]),\n",
    "    features['year'] + 1, \n",
    "    features['year'])\n",
    "\n",
    "features = features[features['year'] <= year_end]\n",
    "\n",
    "features.sort_values(['year', 'month'], inplace=True)"
   ]
  },
  {
   "cell_type": "code",
   "execution_count": null,
   "id": "922a11c1-d117-4b15-960a-10b3f7ea9377",
   "metadata": {},
   "outputs": [],
   "source": [
    "# carry months October, November, and December over to the following year's data\n",
    "# these months represent the start of the growing season for the following year's maize yield\n",
    "features_zmb['year'] = np.where(\n",
    "    features_zmb['month'].isin([10, 11, 12]),\n",
    "    features_zmb['year'] + 1, \n",
    "    features_zmb['year'])\n",
    "\n",
    "features_zmb = features_zmb[features_zmb['year'] <= year_end]\n",
    "\n",
    "features_zmb.sort_values(['year', 'month'], inplace=True)"
   ]
  },
  {
   "cell_type": "markdown",
   "id": "e8539a4a",
   "metadata": {},
   "source": [
    "### Filter month range"
   ]
  },
  {
   "cell_type": "code",
   "execution_count": null,
   "id": "a4b2d613",
   "metadata": {},
   "outputs": [],
   "source": [
    "# subset the features to only the month range selected at the top of the notebook\n",
    "features = features[features.month.isin(month_range)]"
   ]
  },
  {
   "cell_type": "markdown",
   "id": "554ff055",
   "metadata": {},
   "source": [
    "### Pivot wider\n",
    "Here we pivot the data from long format to wide by indexing on 'lon', 'lat', 'year', 'month' and using the unstack function. We then map column names based on the month index and the associated features so month '01' is appended to each feature for that month making 0_01, 1_01 etc. This results in a Tidy data structure, with each row representing an image, and each column representing a feature for a certain month."
   ]
  },
  {
   "cell_type": "code",
   "execution_count": null,
   "id": "0cac4697",
   "metadata": {},
   "outputs": [],
   "source": [
    "features = features.set_index(['lon','lat', \"year\", 'month']).unstack()\n",
    "features.columns = features.columns.map(lambda x: '{}_{}'.format(*x))"
   ]
  },
  {
   "cell_type": "markdown",
   "id": "35e9b16e",
   "metadata": {},
   "source": [
    "### Replace \"inf\" values with `NaN`\n",
    "\n",
    "Infinity values are the result of **(insert reason here)**. We replace them with `NaN` because **(insert reason here)**."
   ]
  },
  {
   "cell_type": "code",
   "execution_count": null,
   "id": "1845e697",
   "metadata": {},
   "outputs": [],
   "source": [
    "features.replace([np.inf, -np.inf], np.nan, inplace=True)\n",
    "features = features.reset_index()\n",
    "features"
   ]
  },
  {
   "cell_type": "markdown",
   "id": "04c3acd3",
   "metadata": {},
   "source": [
    "### Make \"features\" a `GeoDataFrame`\n",
    "\n",
    "The coordinate reference system is set to EPSG 4326 - WGS 84, the latitude/longitude coordinate system based on the Earth's center of mass, used by the Global Positioning System."
   ]
  },
  {
   "cell_type": "code",
   "execution_count": null,
   "id": "dee1f8b2",
   "metadata": {},
   "outputs": [],
   "source": [
    "features = geopandas.GeoDataFrame(\n",
    "    features, \n",
    "    geometry = geopandas.points_from_xy(x = features.lon, y = features.lat), \n",
    "    crs='EPSG:4326'\n",
    ")"
   ]
  },
  {
   "cell_type": "markdown",
   "id": "bc66e85d",
   "metadata": {},
   "source": [
    "### Drop 'lat' and 'lon' columns"
   ]
  },
  {
   "cell_type": "code",
   "execution_count": null,
   "id": "94b47a12",
   "metadata": {},
   "outputs": [],
   "source": [
    "# Drop the redundant independent lon and lat columns because now that they are in a separate geometry column, there is no need for these columns\n",
    "features = features.drop(['lon', 'lat'], axis = 1)\n",
    "type(features)"
   ]
  },
  {
   "cell_type": "code",
   "execution_count": null,
   "id": "c91e3972-1591-4c7e-8bc0-adf8510aadfe",
   "metadata": {},
   "outputs": [],
   "source": [
    "print(features.shape)\n",
    "#print(country_sea.shape)\n",
    "features"
   ]
  },
  {
   "cell_type": "markdown",
   "id": "bd4c25e0",
   "metadata": {},
   "source": [
    "### Join features to country geometry\n",
    "\n",
    "Join the partially processed feature data to Zambia geometry to SEA level (the highest resolution at which we have agricultural data). After imputation and some minor data porcessing steps, the features will be summarized to each SEA level. Although this lowers spatial resolution of the features, it is a necessary step to train the model because the SEA-level agricultural data need to be paired with the SEA-level features in order to execute supervised machine learning."
   ]
  },
  {
   "cell_type": "code",
   "execution_count": null,
   "id": "c0fba002",
   "metadata": {},
   "outputs": [],
   "source": [
    "#features = features.sjoin(country_shp, how = 'left', predicate = 'within')\n",
    "#features\n",
    "country_sea = geopandas.read_file('/capstone/mosaiks/box/data/groundagg_spatial.shp')\n",
    "country_sea"
   ]
  },
  {
   "cell_type": "code",
   "execution_count": null,
   "id": "8986e9a3-ab62-4bad-8f6e-e64a0c121509",
   "metadata": {},
   "outputs": [],
   "source": [
    "#new code to join features to geometry \n",
    "features = country_sea.sjoin(features, how = 'left', predicate = 'within')\n",
    "features"
   ]
  },
  {
   "cell_type": "markdown",
   "id": "f3230ad6",
   "metadata": {},
   "source": [
    "### Correct column names and drop geometry"
   ]
  },
  {
   "cell_type": "code",
   "execution_count": null,
   "id": "84705c9a",
   "metadata": {},
   "outputs": [],
   "source": [
    "# Drop NA's from the district column (called index_right) then rename the column index_right to district\n",
    "features = (\n",
    "    features\n",
    "    # drop NA values in the `index_right` column, then rename that column to `district` for clarity\n",
    "    .dropna(subset=['index_right'])\n",
    "    .rename(columns = {\"index_right\": \"sea\",})\n",
    "    .reset_index(drop = True)\n",
    ")\n",
    "# make a copy of the features, assigned to an object so we can plot the points as they are in this state\n",
    "# later, after imputation, we also copy the entire features df and save that as an object in case we want to plot or work with them in that stage \n",
    "points = features.copy()\n",
    "# save the geometries as an object to join them later to the rows of crop yield predictions\n",
    "points = features[['geometry']]\n",
    "# save the years as an object to join them later to the rows\n",
    "year = features[['year_left']]\n",
    "# drop geometry column for 20/21 features\n",
    "features = features.drop(['geometry'], axis = 1)\n",
    "features"
   ]
  },
  {
   "cell_type": "markdown",
   "id": "2deeefc9-f501-4843-a5e3-66d02988aeea",
   "metadata": {},
   "source": [
    "### Intermediate Processing Check: Plot the Features\n",
    "\n",
    "So far, the features have been masked to just the crop regions of Zambia. Therefore, we expect the plotted points to roughly show the border of Zambia and be present throughout the country, with certain chunks of points missing in areas where crops are not grown. This serves as a \"sanity check\" that we are on-track with our spatial processing. "
   ]
  },
  {
   "cell_type": "code",
   "execution_count": null,
   "id": "5753fa30-32e2-44ce-972e-e33d5d567f4c",
   "metadata": {},
   "outputs": [],
   "source": [
    "points.plot(markersize = 0.05)"
   ]
  },
  {
   "cell_type": "markdown",
   "id": "ca644884",
   "metadata": {},
   "source": [
    "### Impute missing values\n",
    "\n",
    "Imputing \"manually\" by descending group levels imputes NA values in multiple \"cascading\" steps, decreasing the proportion of inoutated values with each step. First, the NA values are imputed at by both `year` and `district`, which should yield imputed values that most closely match the feature values that would be present in the data if there was no clouds obscuring the satellite images. Next, the remaining NA values that could not be imputed by both `year` and `district` are imputed by only `district`. Lastly, the remaining NA vlaues that could not be imputed by both `year` and `district` or by just `district` are imputed by `year` only. This option gives the user more control and transparency over how the imputation is executed.\n",
    "\n",
    "Imputing using `scikit learn`'s simple imputer executes standard imputation, the details of which can be found in the `scikitlearn` documentation [here.](https://scikit-learn.org/stable/modules/generated/sklearn.impute.SimpleImputer.html)\n",
    "\n",
    "The imputation approach depends on the selection made at the top of this notebook for `impute_manual`."
   ]
  },
  {
   "cell_type": "code",
   "execution_count": null,
   "id": "c1c9cfbb",
   "metadata": {
    "tags": []
   },
   "outputs": [],
   "source": [
    "# compute the number of cells in the features dataframe, based on the amount of rows (images), months, and feature columns\n",
    "num_cells = len(features) * len(month_range) * num_features"
   ]
  },
  {
   "cell_type": "code",
   "execution_count": null,
   "id": "5cca7eda-15bb-4d0f-8706-f8665424aaeb",
   "metadata": {},
   "outputs": [],
   "source": [
    "class bcolors:\n",
    "    BL = '\\x1b[1;34m' #GREEN\n",
    "    GR = '\\x1b[1;36m' #GREEN\n",
    "    YL = '\\x1b[1;33m' #YELLOW\n",
    "    RD = '\\x1b[1;31m' #RED\n",
    "    RESET = '\\033[0m' #RESET COLOR"
   ]
  },
  {
   "cell_type": "code",
   "execution_count": null,
   "id": "f1be2c7c-37e1-4bf9-80fc-d0554a14f2d6",
   "metadata": {},
   "outputs": [],
   "source": [
    "%%time\n",
    "if impute_manual:\n",
    "    ln_ft = len(features)\n",
    "    ln_na = len(features.dropna())\n",
    "    print(f'Starting total row count: {bcolors.BL}{ln_ft}{bcolors.RESET}',\n",
    "          f'\\nPre-Impute NaN row count: {bcolors.RD}{ln_ft - ln_na}{bcolors.RESET}',\n",
    "          f'\\nPre-Impute NaN row %: {bcolors.RD}{((ln_ft - ln_na) / ln_ft)*100:.02f}{bcolors.RESET}',\n",
    "          f'\\nPre-Impute NaN cell %: {bcolors.RD}{(features.isna().sum().sum() / num_cells)*100:.02f}{bcolors.RESET}',\n",
    "          f'\\n\\nStep 1: Filling NaN values by month, year, and district group average')\n",
    "    features = (\n",
    "        features\n",
    "        .fillna(features\n",
    "                .groupby(['year', 'district'], as_index=False)\n",
    "                .transform('mean')\n",
    "               )\n",
    "    )\n",
    "    ln_ft = len(features)\n",
    "    ln_na = len(features.dropna())\n",
    "    print(f'Post step 1 NaN row count: {bcolors.YL}{ln_ft - ln_na}{bcolors.RESET}',\n",
    "          f'\\nPost step 1 NaN row %: {bcolors.YL}{((ln_ft - ln_na) / ln_ft)*100:.02f}{bcolors.RESET}',\n",
    "          f'\\nPost step 1 NaN cell %: {bcolors.YL}{(features.isna().sum().sum() / num_cells)*100:.02f}{bcolors.RESET}',\n",
    "          f'\\n\\nStep 2: Filling NaN values by month and district across group average')\n",
    "    features = (\n",
    "        features\n",
    "        .fillna(features\n",
    "                .groupby(['district'], as_index=False)\n",
    "                .transform('mean')\n",
    "               )\n",
    "    )\n",
    "    ln_ft = len(features)\n",
    "    ln_na = len(features.dropna())\n",
    "    print(f'Post step 2 NaN row count: {bcolors.GR}{ln_ft - ln_na}{bcolors.RESET}',\n",
    "          f'\\nPost step 2 NaN row %: {bcolors.GR}{((ln_ft - ln_na) / ln_ft)*100:.02f}{bcolors.RESET}',\n",
    "          f'\\nPost step 2 NaN cell %: {bcolors.GR}{(features.isna().sum().sum() / num_cells)*100:.02f}{bcolors.RESET}',\n",
    "          f'\\n\\nStep 3: Drop remaining NaN values\\n')\n",
    "    features = features.dropna(axis=0)\n",
    "    print(f'Ending total row count: {bcolors.BL}{len(features)}{bcolors.RESET}')\n",
    "else:\n",
    "    features = features.set_index(['year', 'district'])\n",
    "    imputer = SimpleImputer(missing_values=np.nan, strategy='mean')\n",
    "    imputer.fit_transform(features)\n",
    "    features[:] = imputer.transform(features)\n",
    "    features = features.reset_index()"
   ]
  },
  {
   "cell_type": "markdown",
   "id": "c51dd396",
   "metadata": {
    "tags": []
   },
   "source": [
    "### Save copy of processed features before sumarizing training features to district level\n",
    "\n",
    "Duplicate the features dataframe at this stage so we can retain a copy of features at point resolution for all years available, which is `2013/2014/2016-2021`.\n",
    "\n",
    "    - The start year is `2016` if the satellite selected is Sentinel 2 (due to the fact that Sentinel 2 launched in June of `2015`)\n",
    "    - The start year is `2013` if the satellite selected is Landsat 8 and the month range selected was anything besides all months (due to the fact that Landsat 8 launched in February of `2013`)\n",
    "    - The start year is `2014` if the satellite selected is Landsat 8 and the month range selected was all months\n",
    "    \n",
    "This duplicated dataframe we create in the following code is called `features_all_years`. The purpose for this dataframe comes into play after the model is trained; we will be able to plug in point-resolution features from _any and all_ years from this dataframe into the trained model and observe how the model predicts crop years across space and time. It would be interesting to plot these features for each year sequentially to show how the crop prediction landscape changes by year. These point-resolution features increase the spatial resolution of the ground-truth crop data we have for the years through 2018, because our ground-truth crop data is at a the coarser  district-resolution. Furthermore, these point-resolution features are the _only_ crop data we have for the years 2020-2021. The reason we lack data from 2019 is because the Zanbia Sattistics Agency has not yet released their Crop Forecast Survey data for that year. The reason we do not have data for 2020-2021 is because Covid-19 prevented any Crop Forecast Surveys from being conducted. \n",
    "\n",
    "\n",
    "After we create the dataframe `features_all_years`, we are free to further process the original features dataframe, `features`, in order to train the model with these features and their paired ground-truth crop yields. Processing this dataframe further requires us to subset the years to the start year through the years for which we have crop data: `2013/2014/2016-2019`. This dataframe is called `features_through_2019`. The reason we subset this dataframe is because we are training the model using _supervised_ machine learning, which means we are feeding it only features that have ground-truth crop data accosicated with them."
   ]
  },
  {
   "cell_type": "code",
   "execution_count": null,
   "id": "7d421fce",
   "metadata": {},
   "outputs": [],
   "source": [
    "features_all_years = features.copy()\n",
    "\n",
    "# assign the geometry column to features_2014_2021 so it can serve 2 purposes:\n",
    "# 1. plotting features sequentially by year\n",
    "# 2. the entire dataframe can be fed into the model after the model is trained on only the summarized features for 2014-2018 and the associated crop data\n",
    "features_all_years['geometry'] = points.geometry\n",
    "# moving forward in the immediate sections, summarize the `features` dataframe to district level"
   ]
  },
  {
   "cell_type": "markdown",
   "id": "daf565a2-5486-43a8-9eec-9a75ba19d21a",
   "metadata": {},
   "source": [
    "### Subset the `features` dataframe to the years `2013/2014/2016-2019`\n",
    "\n",
    "As discussed above, all feature data required the previous processing steps. However, the following code is not executed on _all_ features.\n",
    "1. The `2013/2014-2019` (Landsat 8) or `2016-2019` (Sentinel 2) set of features is named `features_through_2019` so the name is agnostic to the selected satellite and month range.\n",
    "2. The features in each row (point) in `features_through_2019` will be summarized to administrative boundary level (all rows (points) have already been assigned to the district in which they reside).\n",
    "2. These summarized features in `features_through_2019` will then be joined with the district-resolution crop data. Next, we split these features into train and test sets, and then use them to train the model using ridge regression.\n",
    "3. Lastly, apply the trained model to the larger, comprehensive feature set for `2013/2014-2021` (Landsat 8) or `2016-2021` (Sentinel 2), called `features_all_years`, which includes all years regardless if those years have ground truth crop data. \n",
    "\n",
    "After we train the model, recall that we are _most interested_ in generating crop predictions for the three years `2020-2021` because the model was not trained on these years at all, and it is an \"out-of-bag sample\" in machine learning terms. The following code splits the data correctly no matter which satellite was selected at the top of the notebook."
   ]
  },
  {
   "cell_type": "code",
   "execution_count": null,
   "id": "9023df42-a53c-4e92-8738-118ce91096eb",
   "metadata": {},
   "outputs": [],
   "source": [
    "# subset the features dataframe to just the years 2013/2014/2016-2019\n",
    "# this will allow us to join these years to the crop data over space and time in the next section\n",
    "features_through_2019 = features[features.year <= year_end_crops]\n",
    "\n",
    "# check that subsetting years worked\n",
    "print(features_through_2019[\"year\"].unique())\n",
    "# output should be 2016, 2017, 2018, 2019 for Sentinel 2\n",
    "# output should be 2013/2014, 2015, 2016, 2017, 2018, 2019 for Landsat 8"
   ]
  },
  {
   "cell_type": "markdown",
   "id": "5d7398ff",
   "metadata": {
    "tags": []
   },
   "source": [
    "### Summarise to administrative boundary level\n",
    "Weighted by cropped area, or simple mean, depending on the selection at the top of this notebook for `weighted_avg`. "
   ]
  },
  {
   "cell_type": "code",
   "execution_count": null,
   "id": "664f80ed",
   "metadata": {},
   "outputs": [],
   "source": [
    "# check the order of the columns in the dataframe that will be summarized and then fed into the ridge regression in order to train the model\n",
    "# we care about the order of columns specifically because in the following steps we assign only the feature columns to an object, so we need to know which 3 columns to omit by indexing\n",
    "features_through_2019.columns"
   ]
  },
  {
   "cell_type": "markdown",
   "id": "ed5bb4b3-eae0-4e0e-98ee-84d61b8358a1",
   "metadata": {},
   "source": [
    "The output above show that the 3 columns that are _not_ features are the first 2 columns `year` and `district`, and the last column, `crop_perc`."
   ]
  },
  {
   "cell_type": "code",
   "execution_count": null,
   "id": "ccdbc894-8004-4fa3-b02c-432e1acc84c9",
   "metadata": {},
   "outputs": [],
   "source": [
    "# check the shape to the dataframe as a sanity check\n",
    "features_through_2019.shape"
   ]
  },
  {
   "cell_type": "markdown",
   "id": "6f9f4620-f31d-4e85-afc2-5a30b942754a",
   "metadata": {},
   "source": [
    "The output above shows the number of rows and columns in the dataframe, respectively. Recall that the number of rows represents the number of points for which we have features, and the number of columns is all features for all months selected plus the columns `year`, `district`, and `crop_perc`. There are 13866 rows, meaning that is the amount of training points we have to feed into the model _before they are summarized to district level_, so this number will shrink after we summarize to district level. There are 12003 columns, which will not change after we summarize the features to district level. The number of columns that we include in the features object in the next chunk will be this number minus the 3 non-feature columns."
   ]
  },
  {
   "cell_type": "code",
   "execution_count": null,
   "id": "310666d0",
   "metadata": {},
   "outputs": [],
   "source": [
    "# create object that contains only feature columns, rather than all columns that would include `district`, `year`, and `crop_perc`\n",
    "# python index starts at 0, so here we specify to retain columns starting at 3 through every column besides the last column\n",
    "# the columns we omit stay in the dataframe, because we assign the selected columns to an object, but the omitted columns are not included in the calculation in the next chunk\n",
    "var_cols = features_through_2019.columns[2:-1].values.tolist()\n",
    "\n",
    "# call the object `var_cols` to check that it only includes feature columns, but do not view it in list format because it is more readable not as a list \n",
    "features_through_2019.columns[2:-1]\n",
    "# these are all the feature columns that will be fed into the `weighted_avg` calculation in the next chunk"
   ]
  },
  {
   "cell_type": "code",
   "execution_count": null,
   "id": "0b2fcd08",
   "metadata": {},
   "outputs": [],
   "source": [
    "%%time\n",
    "# execute the weighted average on the cropped area\n",
    "# if the object `weighted_avg` was set to True at the top of the notebook, this calculation gives more weight (importance) to area in Zambia that has a high proportion of cropland\n",
    "# this differs from the masking step that was executed earlier, because the masking step completely removed all land that was 0% cropland, and this step processes the land that is >1% cropland\n",
    "if weighted_avg:\n",
    "    features_summary = (\n",
    "        features_through_2019\n",
    "        .groupby(['year', 'district'], as_index=False)\n",
    "        .apply(lambda x: pd.Series([sum(x[v] * x.crop_perc) / sum(x.crop_perc) for v in var_cols]))\n",
    "    )\n",
    "# if weighted_avg was set to FALSE at the beginning of the notebook, the weighted avergae is not executed\n",
    "# instead, the features are simply summarized by district and year, which also occurred above if weighted_avg was set to TRUE\n",
    "else:\n",
    "    features_summary = features_through_2019.groupby(['district',\"year\"], as_index = False).mean()\n",
    "# now that we have renamed our features object to `features_summary`, note that we use this object moving forward"
   ]
  },
  {
   "cell_type": "markdown",
   "id": "bcf5f1ce-57d8-46e4-bec3-c0bafe0d305e",
   "metadata": {},
   "source": [
    "Now that the features have been summarized to district and year, there are fewer rows. The dataframe we were working with before this step,  `features_through_2018`, had 13866 rows that represented points. Now we have 216 rows, as shown by the following output. Notice we still have all 12003 columns. "
   ]
  },
  {
   "cell_type": "code",
   "execution_count": null,
   "id": "4de6e828-dd90-4ca8-b3f6-1c09096711e0",
   "metadata": {},
   "outputs": [],
   "source": [
    "features_summary.shape"
   ]
  },
  {
   "cell_type": "markdown",
   "id": "9f1dc498",
   "metadata": {},
   "source": [
    "### Join crop data\n",
    "\n",
    "Combine the crop data and features into 1 dataframe in order to train the model on this object in the next section. The crop data is at district-resolution, as is the feature data in the dataframe `features_summary`."
   ]
  },
  {
   "cell_type": "code",
   "execution_count": null,
   "id": "f91a28ef-1cac-4ece-84b3-03c251df1f8a",
   "metadata": {},
   "outputs": [],
   "source": [
    "# remind yourself of the object `crop_df` we created much earlier in the notebook when we read in the crop data in the section \"Crop yield\"\n",
    "crop_df"
   ]
  },
  {
   "cell_type": "markdown",
   "id": "95679bec-1884-4c2d-951e-887bff2480a5",
   "metadata": {},
   "source": [
    "This dataframe needs to undergo a little processing before we can join it to `features_summary`.\n",
    "1. Firstly, we need to subset the years to just the years for which we have features. \n",
    "2. Next, we remove 2 districts. We do this because the district shapefile that we used to assign districts to the feature data does not include the districts Mafinga or Ikelenge. It is not uncommon for district boundaries to change slightly over time in sub-Saharan Africa. This was determined by examining the unique district values in both dataframes before executing the follwoing chunk.\n",
    "3. Lastly, we reset the index so all 3 variables are columns."
   ]
  },
  {
   "cell_type": "code",
   "execution_count": null,
   "id": "e4ad4b05-d1b3-4d9a-a4de-58de95d6c91a",
   "metadata": {},
   "outputs": [],
   "source": [
    "# take subset of crop dataframe so that it only includes the years for which we have feature data, through 2018\n",
    "# this subsets the dataframe correctly no matter which satellite was selected\n",
    "# COME BACK TO THIS PART TO DETEMRINE HOW TO HANDLE +1 \n",
    "# delete: crop_through_2018 = crop_df[crop_df.year >= year_start]\n",
    "# delete: crop_through_2018 = crop_df[crop_df.year >= year_start + 1]\n",
    "# suggested change:\n",
    "crop_through_2019 = crop_df[crop_df.year >= min(features_summary.year)]\n",
    "\n",
    "# now the crop data starts in 2013, 2014 or 2016, depending on which satellite was selected and which month range was selected\n",
    "# remove 2 districts because they are not present in one shapefile \n",
    "crop_through_2019 = crop_through_2019[~crop_through_2019.index.isin(['Mafinga', 'Ikelenge'])]\n",
    "# reset index so all 3 variables are columns\n",
    "crop_through_2019.reset_index(inplace = True)\n",
    "# take a look at the crop dataframe as a sanity check that the processing steps were correct\n",
    "# the `yield_mt` data is in units of metric tonnes per hectare of cropland planted\n",
    "crop_through_2019\n",
    "# if interested, please see more details about the crop data in our technical documentation for this project"
   ]
  },
  {
   "cell_type": "markdown",
   "id": "4aaf0c93-9fc6-4c06-91a4-4e003ad3d10a",
   "metadata": {},
   "source": [
    "Now remind yourself of the columns of the features dataframe so we know which column(s) we can use to join the dataframes:"
   ]
  },
  {
   "cell_type": "code",
   "execution_count": null,
   "id": "3a8ddc6d-7127-4e5e-987f-1fb62a306d81",
   "metadata": {},
   "outputs": [],
   "source": [
    "features_summary.columns"
   ]
  },
  {
   "cell_type": "markdown",
   "id": "7516d69c-9a05-4479-81d6-83829932b2c6",
   "metadata": {},
   "source": [
    "The columns we can join by are `district` and `year`."
   ]
  },
  {
   "cell_type": "code",
   "execution_count": null,
   "id": "f065da58",
   "metadata": {},
   "outputs": [],
   "source": [
    "# join the crop data with the summarized feature data through 2019\n",
    "features_summary = (\n",
    "    features_summary\n",
    "    .set_index([\"district\", \"year\"])\n",
    "    .join(other = crop_through_2019.set_index([\"district\", \"year\"]))\n",
    "    .reset_index())\n",
    "\n",
    "features_summary.columns\n",
    "# now that the data is joined, the column `yield_mt` is present in `features_summary`"
   ]
  },
  {
   "cell_type": "markdown",
   "id": "9ab60bf3-9eae-4867-8e53-cd41dd3c8a51",
   "metadata": {},
   "source": [
    "Now that the summarized features are joined to the crop data, each row represents summarized features for a district for one year. For example, the top rows of this dataframe show the district Chadiza for several years, then the district switches to Chama, with a Chama row for each year, and so on all the way through the districts until the last one, Zambezi."
   ]
  },
  {
   "cell_type": "code",
   "execution_count": null,
   "id": "e2b570ee-635e-417a-b29b-1131a9b94d56",
   "metadata": {},
   "outputs": [],
   "source": [
    "features_summary"
   ]
  },
  {
   "cell_type": "markdown",
   "id": "85e3288b",
   "metadata": {
    "tags": []
   },
   "source": [
    "## Model"
   ]
  },
  {
   "cell_type": "markdown",
   "id": "8ea11764",
   "metadata": {},
   "source": [
    "### Define `x`'s and `y`'s that will be a part of training the model\n",
    "\n",
    "Since our independent variable is the features, these are the `x`'s. Our dependent variable is the crop yield in metric tonnes per hectare planted, so that will be the `y`'s."
   ]
  },
  {
   "cell_type": "code",
   "execution_count": null,
   "id": "c44f3d06-6248-4c6b-bcc1-62a12b5ed0d4",
   "metadata": {},
   "outputs": [],
   "source": [
    "# this if-else statement is determined by the selection of True or False made at the top of the notebook for the object `weighted_avg`\n",
    "if weighted_avg:\n",
    "    drop_cols = ['district', 'year', 'yield_mt']\n",
    "else:\n",
    "# if the selection was False, we can drop the `crop_perc` columns because we will not use it moving forward\n",
    "    drop_cols = ['district', 'year', 'yield_mt', \"crop_perc\"]\n",
    "# note that this chunk does not actually execute the column dropping, it just defines the object that will determine which are dropped in the next chunk"
   ]
  },
  {
   "cell_type": "code",
   "execution_count": null,
   "id": "bcc5752e",
   "metadata": {},
   "outputs": [],
   "source": [
    "# define ALL x's (the features_summary data that will be fed into the model to train) by dropping the columns specified in the previous chunk\n",
    "# if the `axis` argument was set to 0, this code would incorrectly drop rows instead of columns\n",
    "x_all = features_summary.drop(drop_cols, axis = 1)\n",
    "\n",
    "# log transform the `yield_mt` column because that was recommended by the client\n",
    "y_all = np.log10(features_summary.yield_mt.to_numpy() + 1)"
   ]
  },
  {
   "cell_type": "code",
   "execution_count": null,
   "id": "e6ccecfe-5e5c-4895-8fdb-d0d165364900",
   "metadata": {},
   "outputs": [],
   "source": [
    "# take a look at the first 10 values of the log transformed `yield_mt` array to get an idea of the scale of the crop yields we use to train the model\n",
    "print(y_all[:10])"
   ]
  },
  {
   "cell_type": "markdown",
   "id": "ca312a5f",
   "metadata": {},
   "source": [
    "### Split into train and test sets\n",
    "\n",
    "This step is executed right before training the model so we can train on 80% of the data and preserve 20% for testing."
   ]
  },
  {
   "cell_type": "code",
   "execution_count": null,
   "id": "79eb18ce",
   "metadata": {},
   "outputs": [],
   "source": [
    "x_train, x_test, y_train, y_test = train_test_split(\n",
    "    x_all, y_all, test_size = 0.2, random_state = 0\n",
    ")"
   ]
  },
  {
   "cell_type": "code",
   "execution_count": null,
   "id": "d5ea5f2c",
   "metadata": {},
   "outputs": [],
   "source": [
    "print(\"Number of total points: \", len(x_all), \"\\n\", \n",
    "      \"Number of training points: \", len(x_train), \"\\n\",\n",
    "      \"Number of testing points: \", len(x_test), sep = \"\")"
   ]
  },
  {
   "cell_type": "markdown",
   "id": "be2d84d0",
   "metadata": {},
   "source": [
    "### Train model using cross-validated ridge regression\n",
    "\n",
    "Please see the documentation for the function that executes this regression [here.](https://scikit-learn.org/stable/modules/generated/sklearn.linear_model.RidgeCV.html)"
   ]
  },
  {
   "cell_type": "code",
   "execution_count": null,
   "id": "cf329e3e",
   "metadata": {},
   "outputs": [],
   "source": [
    "ridge_cv_random = RidgeCV(cv = 5, alphas = np.logspace(-8, 8, base = 10, num = 17))\n",
    "ridge_cv_random.fit(x_train, y_train)"
   ]
  },
  {
   "cell_type": "code",
   "execution_count": null,
   "id": "90e9d48b-28dd-47ec-9098-970958bc9b25",
   "metadata": {},
   "outputs": [],
   "source": [
    "print(f\"Estimated regularization parameter: {ridge_cv_random.alpha_}\")"
   ]
  },
  {
   "cell_type": "markdown",
   "id": "9c58e251",
   "metadata": {},
   "source": [
    "### Validation set $R^2$ performance"
   ]
  },
  {
   "cell_type": "code",
   "execution_count": null,
   "id": "536045c2",
   "metadata": {},
   "outputs": [],
   "source": [
    "print(f\"Validation R2 performance: {ridge_cv_random.best_score_:0.2f}\")"
   ]
  },
  {
   "cell_type": "markdown",
   "id": "680ac1d1",
   "metadata": {},
   "source": [
    "### Train set"
   ]
  },
  {
   "cell_type": "code",
   "execution_count": null,
   "id": "a9fcd436",
   "metadata": {},
   "outputs": [],
   "source": [
    "y_pred = np.maximum(ridge_cv_random.predict(x_train), 0)\n",
    "r2_train = r2_score(y_train, y_pred)\n",
    "\n",
    "fig, ax = plt.subplots(ncols=1)\n",
    "plt.scatter(y_pred, y_train, alpha=1, s=4)\n",
    "plt.xlabel(\"Predicted\", fontsize=15, x = .3)\n",
    "plt.ylabel(\"Ground Truth\", fontsize=15)\n",
    "plt.suptitle(r\"$\\log_{10}(1 + Crop Yield)$\", fontsize=20, y=1.02)\n",
    "plt.title((f\"Model applied to train data n = {len(x_train)}, R$^2$ = {r2_train:0.2f}\"),\n",
    "          fontsize=12, y=1.01)\n",
    "\n",
    "plt.xticks(fontsize=14)\n",
    "plt.yticks(fontsize=14)\n",
    "\n",
    "ax.axline([0, 0], [1, 1], c = \"k\")\n",
    "\n",
    "plt.gca().spines.right.set_visible(False)\n",
    "plt.gca().spines.top.set_visible(False)\n",
    "\n",
    "\n",
    "# plt.savefig(f'images/{feature_file_name}_train_data.jpg', dpi=300)\n",
    "plt.show()\n",
    "plt.close()\n",
    "# the model is plotted with a black 45 degree line that serves as a reference of what a perfect correlation would look like\n",
    "# deviation of the line indicates that there is not a perfect correlation"
   ]
  },
  {
   "cell_type": "code",
   "execution_count": null,
   "id": "dbbc0486",
   "metadata": {},
   "outputs": [],
   "source": [
    "print(f\"Training R^2 = {r2_train:0.2f}\\nPearsons r = {pearsonr(y_pred, y_train)[0]:0.2f}\") "
   ]
  },
  {
   "cell_type": "code",
   "execution_count": null,
   "id": "2550c544-4a28-4d34-841a-837223fa0bd7",
   "metadata": {},
   "outputs": [],
   "source": [
    "# Pearson r^2\n",
    "pearsonr(y_pred, y_train)[0] ** 2"
   ]
  },
  {
   "cell_type": "code",
   "execution_count": null,
   "id": "16c01413-8e64-4ba8-b61e-5fd8c9d10c36",
   "metadata": {},
   "outputs": [],
   "source": [
    "# alternative way to calculate Training R^2\n",
    "ridge_cv_random.score(x_train, y_train)"
   ]
  },
  {
   "cell_type": "markdown",
   "id": "dff83102",
   "metadata": {},
   "source": [
    "### Test set"
   ]
  },
  {
   "cell_type": "code",
   "execution_count": null,
   "id": "dcb42c16",
   "metadata": {
    "tags": []
   },
   "outputs": [],
   "source": [
    "y_pred = np.maximum(ridge_cv_random.predict(x_test), 0)\n",
    "r2_test = r2_score(y_test, y_pred)\n",
    "\n",
    "plt.figure()\n",
    "plt.scatter(y_pred, y_test, alpha=1, s=4)\n",
    "plt.xlabel(\"Predicted\", fontsize=15)\n",
    "plt.ylabel(\"Ground Truth\", fontsize=15)\n",
    "plt.suptitle(r\"$\\log_{10}(1 + Crop Yield)$\", fontsize=20, y=1.02)\n",
    "plt.title(f\"Model applied to test data n = {len(x_test)}, R$^2$ = {r2_test:0.2f}\",\n",
    "          fontsize=12, y=1)\n",
    "\n",
    "plt.xticks(fontsize=14)\n",
    "plt.yticks(fontsize=14)\n",
    "\n",
    "ax.axline([0, 0], [.75, .75], c = \"k\")\n",
    "\n",
    "plt.gca().spines.right.set_visible(False)\n",
    "plt.gca().spines.top.set_visible(False)\n",
    "\n",
    "# plt.savefig(f'images/{feature_file_name}_test_data.jpg', dpi=300)\n",
    "plt.show()\n",
    "plt.close()"
   ]
  },
  {
   "cell_type": "code",
   "execution_count": null,
   "id": "a4f6268f",
   "metadata": {},
   "outputs": [],
   "source": [
    "print(f\"Testing set R^2 = {r2_test:0.2f}\")\n",
    "print(f\"Testing set pearsons R = {pearsonr(y_pred, y_test)[0]:0.2f}\")"
   ]
  },
  {
   "cell_type": "markdown",
   "id": "3aef4215-081f-4537-aade-bf7c3e5d3d93",
   "metadata": {},
   "source": [
    "Summary of both train and test data sets"
   ]
  },
  {
   "cell_type": "code",
   "execution_count": null,
   "id": "78675318-1a34-4c3d-90f8-e738abd6c2f6",
   "metadata": {},
   "outputs": [],
   "source": [
    "y_pred = np.maximum(ridge_cv_random.predict(x_all), 0)\n",
    "\n",
    "fig, ax = plt.subplots(figsize=(7, 7))\n",
    "ax.axline([0, 0], [.75, .75], c = \"k\")\n",
    "plt.scatter(y_pred, y_all, alpha=.9, s=15)\n",
    "plt.xlabel(\"Predicted\", fontsize=15)\n",
    "plt.ylabel(\"Observed\", fontsize=15)\n",
    "plt.text(\n",
    "    0, .8, fontsize=15, fontweight=\"bold\",\n",
    "    s=f\"R$^2$={r2_train:0.2f} - Train set\",\n",
    ")\n",
    "plt.text(\n",
    "    0, .75, fontsize=15, fontweight=\"bold\",\n",
    "    s=f\"R$^2$={ridge_cv_random.best_score_:0.2f} - Validation set\",\n",
    ")\n",
    "plt.text(\n",
    "    0, .7, fontsize=15, fontweight=\"bold\",\n",
    "    s=f\"R$^2$={r2_test:0.2f} - Test set\",\n",
    ")\n",
    "plt.xticks(fontsize=14)\n",
    "plt.yticks(fontsize=14)\n",
    "\n",
    "plt.gca().spines.right.set_visible(False)\n",
    "plt.gca().spines.top.set_visible(False)\n",
    "\n",
    "# plt.savefig(f'images/{feature_file_name}_all_data.jpg', dpi=300)\n",
    "plt.show()\n",
    "plt.close()"
   ]
  },
  {
   "cell_type": "markdown",
   "id": "5a29cb5b",
   "metadata": {},
   "source": [
    "### Use the trained model to predict crop yields over all years from 1km grid-cell resolution features \n",
    "\n",
    "Recall that after we executed imputation on all feature years in the dataframe `features`, we copied the dataframe and named it `features_all_years`. Now we can plug that into the model to visualize how our model performs over time."
   ]
  },
  {
   "cell_type": "code",
   "execution_count": null,
   "id": "e360ddd6-1c76-4aa0-90cf-3b6ff35b1b94",
   "metadata": {},
   "outputs": [],
   "source": [
    "# recall the object we created earlier, before we split the features by year into those that would train the model \n",
    "# and those that would be fed into the trained model to predict crop yields\n",
    "# in years for which we do not have crop data\n",
    "features_all_years.head(3)"
   ]
  },
  {
   "cell_type": "markdown",
   "id": "dd87a870-2e2b-4c03-b65b-d7431fa82f73",
   "metadata": {},
   "source": [
    "In the following chunk, we drop certain columns from `features_all_years` because we only need to feed the feature data into the model to generate predictions. Using the argument `axis = 1`, we specify that we are dropping columns rather than rows. "
   ]
  },
  {
   "cell_type": "code",
   "execution_count": null,
   "id": "e0ad5295",
   "metadata": {},
   "outputs": [],
   "source": [
    "x_all = features_all_years.drop([\n",
    "    'year', \n",
    "    'geometry',\n",
    "    'district',\n",
    "    'crop_perc'\n",
    "], axis = 1)"
   ]
  },
  {
   "cell_type": "markdown",
   "id": "bfd1331c-9e70-4deb-83a1-ae87cfc7e46b",
   "metadata": {},
   "source": [
    "In the following chunk, we execute the model on the features from the dataframe `features_all_years`. The crop yield predictions for each row populate a new column in the dataframe.\n",
    "\n",
    "The model is run inside the `np.maximum()` function because if we run it without being wrapped inside function, some crop predictions are negative values, but we need them all to be positive because conceptually crop yields cannot be negative."
   ]
  },
  {
   "cell_type": "code",
   "execution_count": null,
   "id": "bad2e993-6581-4a67-ab60-508479ad53bc",
   "metadata": {},
   "outputs": [],
   "source": [
    "features_all_years['yield_prediction'] = np.maximum(ridge_cv_random.predict(x_all), 0)"
   ]
  },
  {
   "cell_type": "code",
   "execution_count": null,
   "id": "02a4758b-e84a-47c5-a5a5-561d6fbe6823",
   "metadata": {},
   "outputs": [],
   "source": [
    "# check out the dataframe with the new column of predictions\n",
    "features_all_years.head(3)"
   ]
  },
  {
   "cell_type": "markdown",
   "id": "4f250da4-4a71-483d-bca9-248b8ecd6901",
   "metadata": {},
   "source": [
    "The dataframe is already a geodataframe, so we do not have to convert it to one before mapping predictions. However, we do need to replace all the zero value crop percentage areas with `NA`. We do this by applying the `mask()` function. This function is similar to an if-else statement. If the value of the `crop_perc` is equal to 0, that value is replaced by the value of the second argument, which is `NA`. If the value of `crop_prec` is _not_ equal to zero, we retain the current value. The argument `inplace = True` executes this replacement in the same cell. "
   ]
  },
  {
   "cell_type": "code",
   "execution_count": null,
   "id": "1fe0ee44-575a-45b8-ae14-b44ce3290ac4",
   "metadata": {},
   "outputs": [],
   "source": [
    "features_all_years['yield_prediction'].mask(features_all_years['crop_perc']==0, np.nan, inplace=True)"
   ]
  },
  {
   "cell_type": "markdown",
   "id": "82712032-c523-4569-9c2a-26f9dea91177",
   "metadata": {},
   "source": [
    "Recall that this dataframe has a geometry column, with latitude and longitude together. In order to map the predicted features, we separate this geometry column into separate `lon` and `lat` columns. "
   ]
  },
  {
   "cell_type": "code",
   "execution_count": null,
   "id": "980b20d1-e9f8-43b8-888f-32df0f261592",
   "metadata": {},
   "outputs": [],
   "source": [
    "# extract the longitude and latitude from the geometry column, and make then into independent columns\n",
    "features_all_years['lon'], features_all_years['lat'] = features_all_years.geometry.x, features_all_years.geometry.y"
   ]
  },
  {
   "cell_type": "markdown",
   "id": "82eb0d10-ec00-4063-a106-1b73991b9df8",
   "metadata": {},
   "source": [
    "Plot the predicted features for each year:"
   ]
  },
  {
   "cell_type": "code",
   "execution_count": null,
   "id": "9f4364cf-5eaf-4cb4-8c77-6bd38de288ed",
   "metadata": {},
   "outputs": [],
   "source": [
    "def scatter(x, y, c, **kwargs):\n",
    "    plt.scatter(x, y, c=c, s = 1.25)\n",
    "sns.color_palette(\"viridis\", as_cmap=True)\n",
    "g = sns.FacetGrid(\n",
    "    features_all_years, \n",
    "    col=\"year\", \n",
    "    col_wrap = 4, \n",
    "    height=5, \n",
    "    aspect=1\n",
    ")\n",
    "g.map(scatter, \"lon\", \"lat\", \"yield_prediction\")\n",
    "g.set_axis_labels(r\"Yield Prediction\")\n",
    "# save the figure and name the file so that it represents the model parameters that created the predictions\n",
    "# plt.savefig(f'images/{feature_file_name}_all_predictions.jpg', dpi=300)"
   ]
  },
  {
   "cell_type": "markdown",
   "id": "adf3917b-9fea-429f-9416-23851b20229e",
   "metadata": {},
   "source": [
    "Plot the model's predicted features summarized to district level. In this visualization, we choose a specific year to examine rather than visualizing all years in one figure. Visualizing the the features summarized to district level is interesting because the crop data resolution provided by Zambia Statistics Agency is at the district level, and therefore it is easier to compare our model results to those ground-truth values when they are summarized to district level as well. Furthermore, our model's crop predictions for the years 2020 and 2021 might be more valuable when summarized to district level if Zambian governments, policy-makers, farmers, and researchers wish to use this data to determine crop imports, exports, and storage according to district summaries. "
   ]
  },
  {
   "cell_type": "code",
   "execution_count": null,
   "id": "3dceaaf7-84d7-49b4-a2da-e0086c67c314",
   "metadata": {},
   "outputs": [],
   "source": [
    "features_all_years_summary = (\n",
    "    features_all_years\n",
    "    .groupby(['district',\"year\"], as_index = False)['yield_prediction']\n",
    "    .mean()\n",
    "    .set_index('district')\n",
    ")"
   ]
  },
  {
   "cell_type": "code",
   "execution_count": null,
   "id": "25f59be6-5dd0-49f2-bfcc-eb2a2ebea5cd",
   "metadata": {},
   "outputs": [],
   "source": [
    "# join Zambia's shapefile to the summarized features to map the districts\n",
    "# reset the index so it is a properly formatted dataframe\n",
    "features_all_years_summary = features_all_years_summary.join(country_shp).reset_index()"
   ]
  },
  {
   "cell_type": "markdown",
   "id": "d88e5b61-80c4-4b22-a0fa-5a2dbd415517",
   "metadata": {},
   "source": [
    "Now that the geometries have been converted to districts from points, the geomatries are now polygons. There is still a row for each district for each year."
   ]
  },
  {
   "cell_type": "markdown",
   "id": "60f98fce-e33f-49dc-a17c-c9d52215523a",
   "metadata": {},
   "source": [
    "In order to change the year visualized, simply change the year in the following code and re-run the chunk."
   ]
  },
  {
   "cell_type": "code",
   "execution_count": null,
   "id": "7084cc6b-b854-46f4-b2e2-02ba71482002",
   "metadata": {},
   "outputs": [],
   "source": [
    "features_all_years_summary[features_all_years_summary.year == 2020].plot(column = \"yield_prediction\")"
   ]
  },
  {
   "cell_type": "markdown",
   "id": "45acaeba-bf52-49c3-89e9-00dd307b57e6",
   "metadata": {},
   "source": [
    "Plot a boxplot for each year to visualize the range and quantile distribution of each year's crop predictions, summarized to district level. This enables us to identify years with exceptional disparities between the predicted yields by district. It also allows us to identify years that have many outliers."
   ]
  },
  {
   "cell_type": "code",
   "execution_count": null,
   "id": "9beb5eff-a4c8-4a54-85f2-52a1fcf8e37c",
   "metadata": {},
   "outputs": [],
   "source": [
    "plt.figure(figsize=(10, 5))\n",
    "sns.boxplot(x=\"year\", y=\"yield_prediction\", data = features_all_years_summary)\n",
    "plt.xlabel(\"Year\", fontsize=15)\n",
    "plt.ylabel(\"Predicted Yield\", fontsize=15)"
   ]
  },
  {
   "cell_type": "markdown",
   "id": "d910fe1b-bb79-497a-952a-0c7d3a3e95ee",
   "metadata": {},
   "source": [
    "Visualize the total crop yield predictions by year. This bar chart shows the sum of all the district crop yields."
   ]
  },
  {
   "cell_type": "code",
   "execution_count": null,
   "id": "427592b4-686f-4ab1-b781-5f0194dbe081",
   "metadata": {},
   "outputs": [],
   "source": [
    "plt.figure(figsize=(10, 5))\n",
    "sns.barplot(x=\"year\", y=\"yield_prediction\", data = features_all_years_summary, estimator = sum)"
   ]
  },
  {
   "cell_type": "markdown",
   "id": "bb543c8f-3e58-4075-b3c2-95804d3c6e7a",
   "metadata": {},
   "source": [
    "## Yield and Residual Plots\n",
    "\n",
    "Create a dataframe of residuals called `residuals_df` from the `features_summary` dataframe. Note that we are _not_ using the predicted crop yields for _all_ years for these residuals, but rather the ground-truth crop yields for just the years through 2018.\n",
    "\n",
    "The residuals give us an idea of the amount of uncertianty that is present in our model. By demeaning the residuals over space, we are able to remove the uncertainty over space and better determine our model performance over time and our uncertainty over time."
   ]
  },
  {
   "cell_type": "code",
   "execution_count": null,
   "id": "9b4918a9-c0c4-4a0d-bb32-3ff240200571",
   "metadata": {},
   "outputs": [],
   "source": [
    "x_all = features_summary.drop(drop_cols, axis = 1)\n",
    "\n",
    "# create empty dataframe to then populate with columns\n",
    "residual_df = pd.DataFrame()\n",
    "\n",
    "residual_df[\"yield_mt\"] = features_summary.yield_mt.to_numpy()\n",
    "residual_df[\"log_yield\"] = np.log10(features_summary.yield_mt.to_numpy() + 1)\n",
    "residual_df[\"prediction\"] = np.maximum(ridge_cv_random.predict(x_all), 0)\n",
    "residual_df[\"residual\"] = residual_df[\"log_yield\"] - residual_df[\"prediction\"]\n",
    "residual_df[\"year\"] = features_summary.year\n",
    "residual_df[\"district\"] = features_summary.district\n",
    "# join the district geometries\n",
    "residual_df = residual_df.join(country_shp, how = \"left\", on = \"district\")\n",
    "\n",
    "# demean by location so we can analyze the data over time\n",
    "residual_df[\"district_yield_mean\"] = residual_df.groupby('district')['log_yield'].transform('mean')\n",
    "residual_df[\"district_prediction_mean\"] = residual_df.groupby('district')['prediction'].transform('mean')\n",
    "residual_df[\"demean_yield\"] = residual_df[\"log_yield\"] - residual_df[\"district_yield_mean\"]\n",
    "residual_df[\"demean_prediction\"] = residual_df[\"prediction\"] - residual_df[\"district_prediction_mean\"]\n",
    "residual_gdf = geopandas.GeoDataFrame(residual_df)\n",
    "\n",
    "residual_gdf.head(3)"
   ]
  },
  {
   "cell_type": "markdown",
   "id": "f30a2560-4eca-4061-897f-4bb7e2f7c708",
   "metadata": {},
   "source": [
    "Visualize the residuals for the ground truth crop yields through 2018 with a boxplot."
   ]
  },
  {
   "cell_type": "code",
   "execution_count": null,
   "id": "1676a675-bd63-4202-b647-85f0a4fb6152",
   "metadata": {},
   "outputs": [],
   "source": [
    "plt.figure(figsize=(6, 5))\n",
    "sns.boxplot(x=\"year\", y=\"log_yield\", data=residual_df)\n",
    "plt.xlabel(\"Year\", fontsize=15)\n",
    "plt.ylabel(\"Log Yield\", fontsize=15)"
   ]
  },
  {
   "cell_type": "markdown",
   "id": "fc5edb9d-5840-4847-8f04-80f3de8ef0e1",
   "metadata": {},
   "source": [
    "Visualize the residuals as a sum by year with a bar plot."
   ]
  },
  {
   "cell_type": "code",
   "execution_count": null,
   "id": "1f1ffa4d-6c2d-4f16-b10d-7ba68bad0b38",
   "metadata": {},
   "outputs": [],
   "source": [
    "plt.figure(figsize=(6, 5))\n",
    "sns.barplot(x=\"year\", y=\"log_yield\", data=residual_df, estimator = sum)"
   ]
  },
  {
   "cell_type": "markdown",
   "id": "7cd0e82a-7842-4ffe-aa54-0998a766d162",
   "metadata": {},
   "source": [
    "Visualize the crop yield residuals by year as a histogram to determine how they are distributed."
   ]
  },
  {
   "cell_type": "code",
   "execution_count": null,
   "id": "bd79b57f-1fcc-4364-ba15-db3eed9e7e3c",
   "metadata": {},
   "outputs": [],
   "source": [
    "g = sns.FacetGrid(\n",
    "    residual_gdf, \n",
    "    col=\"year\", \n",
    "#     col_wrap = 3, \n",
    "    height=4, \n",
    "    aspect=1\n",
    ")\n",
    "g.map(sns.histplot, \"yield_mt\", bins = 20)\n",
    "g.set_axis_labels(\"Yield (MT)\")"
   ]
  },
  {
   "cell_type": "markdown",
   "id": "45dd3e09-071a-4bb3-b706-9843ef4e58cc",
   "metadata": {},
   "source": [
    "Visualize the log-transformed crop yield residuals by year as a histogram to compare how they are distributed after the transformation."
   ]
  },
  {
   "cell_type": "code",
   "execution_count": null,
   "id": "51204a02-7ac4-49bc-b4a6-d4d89f18b573",
   "metadata": {},
   "outputs": [],
   "source": [
    "g = sns.FacetGrid(\n",
    "    residual_gdf, \n",
    "    col=\"year\", \n",
    "#     col_wrap = 3, \n",
    "    height=4, \n",
    "    aspect=1\n",
    ")\n",
    "g.map(sns.histplot, \"log_yield\", bins = 20)\n",
    "g.set_axis_labels(r\"$\\log_{10}(1 + Crop Yield)$\")"
   ]
  },
  {
   "cell_type": "markdown",
   "id": "c8b1529f-abd6-4dde-9af2-7128cfd908ce",
   "metadata": {},
   "source": [
    "#### Crop prediction histogram"
   ]
  },
  {
   "cell_type": "code",
   "execution_count": null,
   "id": "f611311c-5df0-4cbf-b3ac-37931e00acd4",
   "metadata": {},
   "outputs": [],
   "source": [
    "g = sns.FacetGrid(\n",
    "    residual_gdf, \n",
    "    col=\"year\", \n",
    "#     col_wrap = 3, \n",
    "    height=4, \n",
    "    aspect=1\n",
    ")\n",
    "g.map(sns.histplot, \"prediction\", bins = 20)\n",
    "g.set_axis_labels(r\"Crop yield predictions\")"
   ]
  },
  {
   "cell_type": "markdown",
   "id": "1da7448e-ad5f-488d-bde5-dab420c74859",
   "metadata": {},
   "source": [
    "#### Residual histogram"
   ]
  },
  {
   "cell_type": "code",
   "execution_count": null,
   "id": "1e0628f0-fce2-47ff-b96a-8a4deec322ef",
   "metadata": {},
   "outputs": [],
   "source": [
    "g = sns.FacetGrid(\n",
    "    residual_gdf, \n",
    "    col=\"year\", \n",
    "#     col_wrap = 3, \n",
    "    height=4, \n",
    "    aspect=1\n",
    ")\n",
    "g.map(sns.histplot, \"residual\", bins = 20)\n",
    "g.set_axis_labels(r\"Residuals\")"
   ]
  },
  {
   "cell_type": "code",
   "execution_count": null,
   "id": "37f5d92d-0165-409b-aa92-e8224fce2553",
   "metadata": {},
   "outputs": [],
   "source": [
    "residual_gdf.residual.min()"
   ]
  },
  {
   "cell_type": "code",
   "execution_count": null,
   "id": "88730cab-d02a-4df4-9d05-bbbf6b42eebd",
   "metadata": {},
   "outputs": [],
   "source": [
    "residual_gdf.residual.max()"
   ]
  },
  {
   "cell_type": "markdown",
   "id": "8cbac5aa-4029-43e2-9d94-dbaa930aa87b",
   "metadata": {},
   "source": [
    "#### Log crop yield vs residuals"
   ]
  },
  {
   "cell_type": "code",
   "execution_count": null,
   "id": "32ec42e2-81d5-43f4-ab32-926f5f0ffc1d",
   "metadata": {},
   "outputs": [],
   "source": [
    "g = sns.FacetGrid(\n",
    "    residual_gdf, \n",
    "    col=\"year\", \n",
    "#     col_wrap = 3, \n",
    "    height=4, \n",
    "    aspect=1\n",
    ")\n",
    "g.map(sns.scatterplot, \"log_yield\", \"residual\")\n",
    "g.set_axis_labels(r\"$\\log_{10}(1 + Crop Yield)$\")"
   ]
  },
  {
   "cell_type": "markdown",
   "id": "063416fe-51cb-4505-a5c1-59864bf277b3",
   "metadata": {},
   "source": [
    "#### District residuals "
   ]
  },
  {
   "cell_type": "code",
   "execution_count": null,
   "id": "2a0f7002-7619-4fc4-bcb8-98f1317cd94f",
   "metadata": {},
   "outputs": [],
   "source": [
    "if satellite == 'landsat-8-c2-l2':\n",
    "    fig, (ax1,ax2) = plt.subplots(nrows=1, ncols=2, figsize=(13, 5))\n",
    "    ax1 = (residual_gdf[residual_gdf.year == 2014]\n",
    "           .plot(ax = ax1, column = \"residual\", legend = True, norm=colors.Normalize(vmin= -0.4, vmax=0.4), cmap = \"BrBG\")\n",
    "           .set_title(\"2014 Residuals\"))\n",
    "    ax2 = (residual_gdf[residual_gdf.year == 2015]\n",
    "           .plot(ax = ax2, column = \"residual\", legend = True, norm=colors.Normalize(vmin= -0.4, vmax=0.4), cmap = \"BrBG\")\n",
    "           .set_title(\"2015 Residuals\"))\n",
    "else:\n",
    "    pass\n",
    "fig, (ax1,ax2,ax3) = plt.subplots(nrows=1, ncols=3, figsize=(20, 5))\n",
    "ax1 = (residual_gdf[residual_gdf.year == 2016]\n",
    "       .plot(ax = ax1, column = \"residual\", legend = True, norm=colors.Normalize(vmin= -0.4, vmax=0.4), cmap = \"BrBG\")\n",
    "       .set_title(\"2016 Residuals\"))\n",
    "ax2 = (residual_gdf[residual_gdf.year == 2017]\n",
    "       .plot(ax = ax2, column = \"residual\", legend = True, norm=colors.Normalize(vmin= -0.4, vmax=0.4), cmap = \"BrBG\")\n",
    "       .set_title(\"2017 Residuals\"))\n",
    "ax3 = (residual_gdf[residual_gdf.year == 2018]\n",
    "       .plot(ax = ax3, column = \"residual\", legend = True, norm=colors.Normalize(vmin= -0.4, vmax=0.4), cmap = \"BrBG\")\n",
    "       .set_title(\"2018 Residuals\"))\n",
    "\n",
    "caption = \"A positive value is an underestimated prediction (the prediction is lower than the actual yield), a negative value is an over estimated prediction\"\n",
    "plt.figtext(0.5, 0.01, caption, wrap=True, horizontalalignment='center', fontsize=12)\n"
   ]
  },
  {
   "cell_type": "markdown",
   "id": "4c06eb6d-6b28-4493-982f-c2bdc6e18517",
   "metadata": {},
   "source": [
    "#### Difference from the mean"
   ]
  },
  {
   "cell_type": "code",
   "execution_count": null,
   "id": "f37e53cc-050b-4718-8882-410d02c5aeb0",
   "metadata": {},
   "outputs": [],
   "source": [
    "g = sns.FacetGrid(\n",
    "    residual_gdf, \n",
    "    col=\"year\", \n",
    "#     col_wrap = 3, \n",
    "    height=4, \n",
    "    aspect=1\n",
    ")\n",
    "g.map(sns.scatterplot, \"demean_yield\", \"demean_prediction\")\n",
    "g.set_axis_labels('Difference from Yield Mean', 'Difference from Prediction Mean')"
   ]
  },
  {
   "cell_type": "code",
   "execution_count": null,
   "id": "5c993e12-982a-42e9-8c35-28770ab2b420",
   "metadata": {},
   "outputs": [],
   "source": [
    "fig, ax = plt.subplots(figsize= (6, 5))\n",
    "ax.axline([-.2, -.2], [.2, .2], c = \"k\")\n",
    "plt.scatter(residual_gdf.demean_yield, residual_gdf.demean_prediction)\n",
    "plt.title(\"Demeaned truth and predictions by district\")\n",
    "plt.xlabel('Difference from Yield Mean')\n",
    "plt.ylabel('Difference from Predictions Mean')\n",
    "r_squared = r2_score(residual_gdf[\"demean_yield\"], residual_gdf[\"demean_prediction\"])\n",
    "plt.text(\n",
    "    -0.2,\n",
    "    .18,\n",
    "    s=f\"Demeaned R$^2$ = {r_squared:0.2f}\",\n",
    "    fontsize=15,\n",
    "    fontweight=\"bold\",\n",
    ")\n",
    "plt.savefig(f'images/{feature_file_name}_demean.jpg', dpi=300)"
   ]
  },
  {
   "cell_type": "code",
   "execution_count": null,
   "id": "167f9228-34b2-4f04-b4b0-d47e78542e26",
   "metadata": {},
   "outputs": [],
   "source": [
    "for yr in range(year_start+1, 2018):\n",
    "    r_squared = r2_score(residual_gdf[residual_gdf.year == yr][\"demean_yield\"], residual_gdf[residual_gdf.year == yr][\"demean_prediction\"])\n",
    "    pearson_r = pearsonr(residual_gdf[residual_gdf.year == yr][\"demean_yield\"], residual_gdf[residual_gdf.year == yr][\"demean_prediction\"])\n",
    "    \n",
    "    print(yr, f\"    R^2: {r_squared:.2f}\\n\",\n",
    "          f\"Pearson's r: {pearson_r[0]:.2f}\\n\", \n",
    "          sep = \"\")\n",
    "    \n",
    "r_squared = r2_score(residual_gdf[\"demean_yield\"], residual_gdf[\"demean_prediction\"])\n",
    "pearson_r = pearsonr(residual_gdf[\"demean_yield\"], residual_gdf[\"demean_prediction\"])\n",
    "print(f\"All     R^2: {r_squared:.2f}\\n\",\n",
    "      f\"Pearson's r: {pearson_r[0]:.2f}\", sep = \"\")"
   ]
  },
  {
   "cell_type": "code",
   "execution_count": null,
   "id": "034bd1d1-4490-4801-a729-331c00e0a347",
   "metadata": {},
   "outputs": [],
   "source": [
    "r2 = round(pearson_r[0] ** 2, 2)\n",
    "r2"
   ]
  },
  {
   "cell_type": "markdown",
   "id": "8e907866-1c8b-41dc-a346-01c0a53ee3fb",
   "metadata": {},
   "source": [
    "#### Join residuals to the features for _all_ years to visualize the residuals of the features before they were summarized to district level."
   ]
  },
  {
   "cell_type": "code",
   "execution_count": null,
   "id": "f2f0e606-93a8-477f-b15d-b9a98d2a84ee",
   "metadata": {},
   "outputs": [],
   "source": [
    "complete_df = (\n",
    "    features_all_years_summary\n",
    "    .set_index(['district', 'year'])\n",
    "    .join(residual_df\n",
    "          .drop('geometry', axis = 1)\n",
    "          .set_index(['district', 'year'])\n",
    "         )\n",
    "    .reset_index()\n",
    ")\n",
    "\n",
    "complete_df.head(3)"
   ]
  },
  {
   "cell_type": "code",
   "execution_count": null,
   "id": "2f045cfe-8479-41c7-bd04-9247843e4094",
   "metadata": {},
   "outputs": [],
   "source": [
    "fig, ax1 = plt.subplots(figsize=(10, 5))\n",
    "tidy = complete_df.melt(id_vars='year').rename(columns=str.title)\n",
    "tidy = tidy[tidy.Variable.isin(['yield_prediction', 'log_yield'])]\n",
    "sns.barplot(x='Year', y='Value', hue='Variable', data=tidy, ax=ax1, ci = None)\n",
    "sns.despine(fig)\n",
    "\n",
    "h, l = ax1.get_legend_handles_labels()\n",
    "ax1.legend(h, ['Predicted Yield', 'Observed Yield'],loc='lower left')\n",
    "\n",
    "plt.savefig(f'images/{feature_file_name}_yield_pred.jpg', dpi=300)"
   ]
  },
  {
   "cell_type": "code",
   "execution_count": null,
   "id": "4149c18b-e563-4575-9c13-db636db64af7",
   "metadata": {},
   "outputs": [],
   "source": [
    "plt.figure(figsize=(10, 5))\n",
    "sns.barplot(x=\"year\", y=\"yield_prediction\", data=complete_df, estimator = sum)"
   ]
  },
  {
   "cell_type": "markdown",
   "id": "38476b4e-d3b5-4f79-8d2d-651d6416900a",
   "metadata": {},
   "source": [
    "### Congratulations on completing this analysis!"
   ]
  }
 ],
 "metadata": {
  "kernelspec": {
   "display_name": "Python 3 (ipykernel)",
   "language": "python",
   "name": "python3"
  },
  "language_info": {
   "codemirror_mode": {
    "name": "ipython",
    "version": 3
   },
   "file_extension": ".py",
   "mimetype": "text/x-python",
   "name": "python",
   "nbconvert_exporter": "python",
   "pygments_lexer": "ipython3",
   "version": "3.7.13"
  }
 },
 "nbformat": 4,
 "nbformat_minor": 5
}
